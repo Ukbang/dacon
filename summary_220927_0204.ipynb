{
 "cells": [
  {
   "cell_type": "code",
   "execution_count": 1,
   "id": "7e9966b3-f376-403d-8afc-6f3e17fb9603",
   "metadata": {
    "colab": {
     "base_uri": "https://localhost:8080/"
    },
    "executionInfo": {
     "elapsed": 22283,
     "status": "ok",
     "timestamp": 1664180356310,
     "user": {
      "displayName": "방승욱",
      "userId": "11597218228423641910"
     },
     "user_tz": -540
    },
    "id": "7e9966b3-f376-403d-8afc-6f3e17fb9603",
    "outputId": "ea86ff95-df02-42f7-b665-bdf0cad6ecfa"
   },
   "outputs": [],
   "source": [
    "import warnings\n",
    "warnings.filterwarnings(\"ignore\")\n",
    "\n",
    "from os.path import join\n",
    "import os\n",
    "import numpy as np\n",
    "import pandas as pd\n",
    "import matplotlib.pyplot as plt\n",
    "import seaborn as sns\n",
    "import re\n",
    "import missingno as msno\n",
    "\n",
    "data_dir = '~/00_Main/daton/220926/datathon_A_Team'\n",
    "ext_data_dir = '~/00_Main/daton/220926/datathon_A_Team/ext_data'\n",
    "\n",
    "train_path = join(data_dir, 'train.csv')\n",
    "train = pd.read_csv(train_path, encoding='UTF-8')\n",
    "\n",
    "test_path = join(data_dir, 'test.csv')\n",
    "test = pd.read_csv(test_path, encoding='UTF-8')\n",
    "\n",
    "day_care_center_path = join(data_dir, 'day_care_center.csv')\n",
    "day_care_center = pd.read_csv(day_care_center_path, encoding='UTF-8')\n",
    "\n",
    "park_path = join(data_dir, 'park.csv')\n",
    "park = pd.read_csv(park_path, encoding='UTF-8')"
   ]
  },
  {
   "cell_type": "code",
   "execution_count": 2,
   "id": "38e9401c-e288-4329-b5ce-d0cf6ef97218",
   "metadata": {
    "executionInfo": {
     "elapsed": 793,
     "status": "ok",
     "timestamp": 1664180357060,
     "user": {
      "displayName": "방승욱",
      "userId": "11597218228423641910"
     },
     "user_tz": -540
    },
    "id": "38e9401c-e288-4329-b5ce-d0cf6ef97218"
   },
   "outputs": [],
   "source": [
    "# train_len 저장하고 데이터 결합\n",
    "\n",
    "train_len = len(train)\n",
    "\n",
    "data = pd.concat([train, test], axis=0)"
   ]
  },
  {
   "cell_type": "code",
   "execution_count": 3,
   "id": "ed0dfb7e-a326-41ab-a302-e78829bfda12",
   "metadata": {
    "executionInfo": {
     "elapsed": 34,
     "status": "ok",
     "timestamp": 1664180370249,
     "user": {
      "displayName": "방승욱",
      "userId": "11597218228423641910"
     },
     "user_tz": -540
    },
    "id": "ed0dfb7e-a326-41ab-a302-e78829bfda12"
   },
   "outputs": [],
   "source": [
    "    # 구 추가하기\n",
    "busan_dong_path = join(ext_data_dir, 'busan.csv')\n",
    "seoul_dong_path = join(ext_data_dir, 'seoul.csv')\n",
    "\n",
    "busan_dong = pd.read_csv(busan_dong_path, encoding='cp949')\n",
    "seoul_dong = pd.read_csv(seoul_dong_path, encoding='cp949')"
   ]
  },
  {
   "cell_type": "code",
   "execution_count": 4,
   "id": "25e5545d-f398-4cc9-ad6d-f82192741f7b",
   "metadata": {
    "colab": {
     "base_uri": "https://localhost:8080/"
    },
    "executionInfo": {
     "elapsed": 32,
     "status": "ok",
     "timestamp": 1664180370250,
     "user": {
      "displayName": "방승욱",
      "userId": "11597218228423641910"
     },
     "user_tz": -540
    },
    "id": "25e5545d-f398-4cc9-ad6d-f82192741f7b",
    "outputId": "34dc17ca-7653-44e5-8c17-51b4235a34bd"
   },
   "outputs": [
    {
     "data": {
      "text/plain": [
       "dict_keys(['강남구', '강동구', '강북구', '강서구', '관악구', '광진구', '구로구', '금천구', '노원구', '도봉구', '동대문구', '동작구', '마포구', '서대문구', '서초구', '성동구', '성북구', '송파구', '양천구', '영등포구', '용산구', '은평구', '종로구', '중구', '중랑구'])"
      ]
     },
     "execution_count": 4,
     "metadata": {},
     "output_type": "execute_result"
    }
   ],
   "source": [
    "seoul_gu = seoul_dong['법정동명'].groupby(seoul_dong['시군구명']).unique()\n",
    "seoul_gu = dict(seoul_gu)\n",
    "\n",
    "seoul_gu.keys()"
   ]
  },
  {
   "cell_type": "code",
   "execution_count": 5,
   "id": "3b5fb9c6-ff1d-4200-9aa7-7f62c70bb4bf",
   "metadata": {
    "colab": {
     "base_uri": "https://localhost:8080/"
    },
    "executionInfo": {
     "elapsed": 23,
     "status": "ok",
     "timestamp": 1664180370250,
     "user": {
      "displayName": "방승욱",
      "userId": "11597218228423641910"
     },
     "user_tz": -540
    },
    "id": "3b5fb9c6-ff1d-4200-9aa7-7f62c70bb4bf",
    "outputId": "9a446101-eba3-44e8-b2a4-f0c33799a089"
   },
   "outputs": [
    {
     "data": {
      "text/plain": [
       "dict_keys(['강서구', '금정구', '기장군', '남구', '동구', '동래구', '부산진구', '북구', '사상구', '사하구', '서구', '수영구', '연제구', '영도구', '중구', '해운대구'])"
      ]
     },
     "execution_count": 5,
     "metadata": {},
     "output_type": "execute_result"
    }
   ],
   "source": [
    "busan_gu = busan_dong['법정동명'].groupby(busan_dong['시군구명']).unique()\n",
    "busan_gu = dict(busan_gu)\n",
    "\n",
    "busan_gu.keys()"
   ]
  },
  {
   "cell_type": "code",
   "execution_count": 6,
   "id": "4ad6833f-5b38-4fa6-82d2-e60397ac95f3",
   "metadata": {
    "colab": {
     "base_uri": "https://localhost:8080/"
    },
    "executionInfo": {
     "elapsed": 14,
     "status": "ok",
     "timestamp": 1664180370251,
     "user": {
      "displayName": "방승욱",
      "userId": "11597218228423641910"
     },
     "user_tz": -540
    },
    "id": "4ad6833f-5b38-4fa6-82d2-e60397ac95f3",
    "outputId": "a94f5a72-667d-429a-9ebe-f213eaac816e"
   },
   "outputs": [
    {
     "data": {
      "text/plain": [
       "{'강서구', '중구'}"
      ]
     },
     "execution_count": 6,
     "metadata": {},
     "output_type": "execute_result"
    }
   ],
   "source": [
    "seoul_gu.keys() & busan_gu.keys()"
   ]
  },
  {
   "cell_type": "code",
   "execution_count": 7,
   "id": "6c089583-6b9f-4975-9904-c71b8fdee317",
   "metadata": {
    "executionInfo": {
     "elapsed": 7,
     "status": "ok",
     "timestamp": 1664180370251,
     "user": {
      "displayName": "방승욱",
      "userId": "11597218228423641910"
     },
     "user_tz": -540
    },
    "id": "6c089583-6b9f-4975-9904-c71b8fdee317"
   },
   "outputs": [],
   "source": [
    "seoul_gu = {'서울'+k: '서울'+v for k, v in seoul_gu.items()}\n",
    "busan_gu = {'부산'+k: '부산'+v for k, v in busan_gu.items()}"
   ]
  },
  {
   "cell_type": "code",
   "execution_count": 8,
   "id": "f04749a0-d9dc-4860-814c-5a75eb548abb",
   "metadata": {
    "executionInfo": {
     "elapsed": 7,
     "status": "ok",
     "timestamp": 1664180370252,
     "user": {
      "displayName": "방승욱",
      "userId": "11597218228423641910"
     },
     "user_tz": -540
    },
    "id": "f04749a0-d9dc-4860-814c-5a75eb548abb"
   },
   "outputs": [],
   "source": [
    "seoul_gu.update(busan_gu)\n",
    "gu = seoul_gu"
   ]
  },
  {
   "cell_type": "code",
   "execution_count": 9,
   "id": "57a303ac-0f75-4a98-91c3-2fbd1e7e38b1",
   "metadata": {
    "colab": {
     "base_uri": "https://localhost:8080/",
     "height": 617
    },
    "executionInfo": {
     "elapsed": 2123,
     "status": "ok",
     "timestamp": 1664180372369,
     "user": {
      "displayName": "방승욱",
      "userId": "11597218228423641910"
     },
     "user_tz": -540
    },
    "id": "57a303ac-0f75-4a98-91c3-2fbd1e7e38b1",
    "outputId": "133dfa7c-9f99-4e86-8a48-9ce992a6dac3"
   },
   "outputs": [
    {
     "data": {
      "text/html": [
       "<div>\n",
       "<style scoped>\n",
       "    .dataframe tbody tr th:only-of-type {\n",
       "        vertical-align: middle;\n",
       "    }\n",
       "\n",
       "    .dataframe tbody tr th {\n",
       "        vertical-align: top;\n",
       "    }\n",
       "\n",
       "    .dataframe thead th {\n",
       "        text-align: right;\n",
       "    }\n",
       "</style>\n",
       "<table border=\"1\" class=\"dataframe\">\n",
       "  <thead>\n",
       "    <tr style=\"text-align: right;\">\n",
       "      <th></th>\n",
       "      <th>transaction_id</th>\n",
       "      <th>apartment_id</th>\n",
       "      <th>city</th>\n",
       "      <th>dong</th>\n",
       "      <th>jibun</th>\n",
       "      <th>apt</th>\n",
       "      <th>addr_kr</th>\n",
       "      <th>exclusive_use_area</th>\n",
       "      <th>year_of_completion</th>\n",
       "      <th>transaction_year_month</th>\n",
       "      <th>transaction_date</th>\n",
       "      <th>floor</th>\n",
       "      <th>transaction_real_price</th>\n",
       "    </tr>\n",
       "  </thead>\n",
       "  <tbody>\n",
       "    <tr>\n",
       "      <th>0</th>\n",
       "      <td>0</td>\n",
       "      <td>7622</td>\n",
       "      <td>서울</td>\n",
       "      <td>서울신교동</td>\n",
       "      <td>6-13</td>\n",
       "      <td>신현(101동)</td>\n",
       "      <td>신교동 6-13 신현(101동)</td>\n",
       "      <td>84.82</td>\n",
       "      <td>2002</td>\n",
       "      <td>200801</td>\n",
       "      <td>21~31</td>\n",
       "      <td>2</td>\n",
       "      <td>37500.0</td>\n",
       "    </tr>\n",
       "    <tr>\n",
       "      <th>1</th>\n",
       "      <td>1</td>\n",
       "      <td>5399</td>\n",
       "      <td>서울</td>\n",
       "      <td>서울필운동</td>\n",
       "      <td>142</td>\n",
       "      <td>사직파크맨션</td>\n",
       "      <td>필운동 142 사직파크맨션</td>\n",
       "      <td>99.17</td>\n",
       "      <td>1973</td>\n",
       "      <td>200801</td>\n",
       "      <td>1~10</td>\n",
       "      <td>6</td>\n",
       "      <td>20000.0</td>\n",
       "    </tr>\n",
       "    <tr>\n",
       "      <th>2</th>\n",
       "      <td>2</td>\n",
       "      <td>3578</td>\n",
       "      <td>서울</td>\n",
       "      <td>서울필운동</td>\n",
       "      <td>174-1</td>\n",
       "      <td>두레엘리시안</td>\n",
       "      <td>필운동 174-1 두레엘리시안</td>\n",
       "      <td>84.74</td>\n",
       "      <td>2007</td>\n",
       "      <td>200801</td>\n",
       "      <td>1~10</td>\n",
       "      <td>6</td>\n",
       "      <td>38500.0</td>\n",
       "    </tr>\n",
       "    <tr>\n",
       "      <th>3</th>\n",
       "      <td>3</td>\n",
       "      <td>10957</td>\n",
       "      <td>서울</td>\n",
       "      <td>서울내수동</td>\n",
       "      <td>95</td>\n",
       "      <td>파크팰리스</td>\n",
       "      <td>내수동 95 파크팰리스</td>\n",
       "      <td>146.39</td>\n",
       "      <td>2003</td>\n",
       "      <td>200801</td>\n",
       "      <td>11~20</td>\n",
       "      <td>15</td>\n",
       "      <td>118000.0</td>\n",
       "    </tr>\n",
       "    <tr>\n",
       "      <th>4</th>\n",
       "      <td>4</td>\n",
       "      <td>10639</td>\n",
       "      <td>서울</td>\n",
       "      <td>서울내수동</td>\n",
       "      <td>110-15</td>\n",
       "      <td>킹스매너</td>\n",
       "      <td>내수동 110-15 킹스매너</td>\n",
       "      <td>194.43</td>\n",
       "      <td>2004</td>\n",
       "      <td>200801</td>\n",
       "      <td>21~31</td>\n",
       "      <td>3</td>\n",
       "      <td>120000.0</td>\n",
       "    </tr>\n",
       "  </tbody>\n",
       "</table>\n",
       "</div>"
      ],
      "text/plain": [
       "   transaction_id  apartment_id city   dong   jibun       apt  \\\n",
       "0               0          7622   서울  서울신교동    6-13  신현(101동)   \n",
       "1               1          5399   서울  서울필운동     142    사직파크맨션   \n",
       "2               2          3578   서울  서울필운동   174-1    두레엘리시안   \n",
       "3               3         10957   서울  서울내수동      95     파크팰리스   \n",
       "4               4         10639   서울  서울내수동  110-15      킹스매너   \n",
       "\n",
       "             addr_kr  exclusive_use_area  year_of_completion  \\\n",
       "0  신교동 6-13 신현(101동)               84.82                2002   \n",
       "1     필운동 142 사직파크맨션               99.17                1973   \n",
       "2   필운동 174-1 두레엘리시안               84.74                2007   \n",
       "3       내수동 95 파크팰리스              146.39                2003   \n",
       "4    내수동 110-15 킹스매너              194.43                2004   \n",
       "\n",
       "   transaction_year_month transaction_date  floor  transaction_real_price  \n",
       "0                  200801            21~31      2                 37500.0  \n",
       "1                  200801             1~10      6                 20000.0  \n",
       "2                  200801             1~10      6                 38500.0  \n",
       "3                  200801            11~20     15                118000.0  \n",
       "4                  200801            21~31      3                120000.0  "
      ]
     },
     "execution_count": 9,
     "metadata": {},
     "output_type": "execute_result"
    }
   ],
   "source": [
    "data['city'] = data['city'].apply(lambda x: x[:2])\n",
    "data['dong'] = data['city'] + data['dong']\n",
    "\n",
    "data.head()"
   ]
  },
  {
   "cell_type": "code",
   "execution_count": 10,
   "id": "66ce97cb-c7f0-49fa-8eca-05f846a8e562",
   "metadata": {
    "executionInfo": {
     "elapsed": 20207,
     "status": "ok",
     "timestamp": 1664180392565,
     "user": {
      "displayName": "방승욱",
      "userId": "11597218228423641910"
     },
     "user_tz": -540
    },
    "id": "66ce97cb-c7f0-49fa-8eca-05f846a8e562"
   },
   "outputs": [],
   "source": [
    "for k, v in gu.items():\n",
    "    data.loc[data['dong'].isin(v), 'gu'] = k"
   ]
  },
  {
   "cell_type": "code",
   "execution_count": 11,
   "id": "20e701fe-89ba-4639-bf99-db42596b23da",
   "metadata": {
    "colab": {
     "base_uri": "https://localhost:8080/"
    },
    "executionInfo": {
     "elapsed": 29,
     "status": "ok",
     "timestamp": 1664180392566,
     "user": {
      "displayName": "방승욱",
      "userId": "11597218228423641910"
     },
     "user_tz": -540
    },
    "id": "20e701fe-89ba-4639-bf99-db42596b23da",
    "outputId": "cc0dc81b-04c0-4920-ce6a-2b65ce10cb1b"
   },
   "outputs": [
    {
     "data": {
      "text/plain": [
       "0"
      ]
     },
     "execution_count": 11,
     "metadata": {},
     "output_type": "execute_result"
    }
   ],
   "source": [
    "data['gu'].isna().sum()"
   ]
  },
  {
   "cell_type": "code",
   "execution_count": 12,
   "id": "1f791f74-b99b-4e8d-91b5-db85cfef70b2",
   "metadata": {
    "colab": {
     "base_uri": "https://localhost:8080/"
    },
    "executionInfo": {
     "elapsed": 776,
     "status": "ok",
     "timestamp": 1664180393320,
     "user": {
      "displayName": "방승욱",
      "userId": "11597218228423641910"
     },
     "user_tz": -540
    },
    "id": "1f791f74-b99b-4e8d-91b5-db85cfef70b2",
    "outputId": "ce5ad929-33a9-4455-fa4d-4e83df2744e4"
   },
   "outputs": [
    {
     "data": {
      "text/plain": [
       "gu\n",
       "부산강서구     31240.298350\n",
       "부산금정구     22736.463471\n",
       "부산기장군     19655.473365\n",
       "부산남구      23469.688425\n",
       "부산동구      18717.596677\n",
       "부산동래구     23279.718287\n",
       "부산부산진구    18753.698471\n",
       "부산북구      17981.371051\n",
       "부산사상구     14933.562957\n",
       "부산사하구     15141.810976\n",
       "부산서구      19592.257367\n",
       "부산수영구     26188.155107\n",
       "부산연제구     24178.487135\n",
       "부산영도구     14159.843340\n",
       "부산중구      13321.269319\n",
       "부산해운대구    26907.117468\n",
       "서울강동구     41080.281168\n",
       "서울관악구     42953.450617\n",
       "서울금천구     26812.244082\n",
       "서울동대문구    37553.361541\n",
       "서울동작구     28930.000000\n",
       "서울마포구     55152.987777\n",
       "서울서대문구    41020.762013\n",
       "서울성동구     66043.581737\n",
       "서울성북구     31381.920270\n",
       "서울송파구     69447.390203\n",
       "서울영등포구    49252.175420\n",
       "서울용산구     80325.633789\n",
       "서울은평구     38371.311883\n",
       "서울종로구     48968.885914\n",
       "서울중구      54279.653664\n",
       "서울중랑구     30611.301468\n",
       "Name: transaction_real_price, dtype: float64"
      ]
     },
     "execution_count": 12,
     "metadata": {},
     "output_type": "execute_result"
    }
   ],
   "source": [
    "grouped = data['transaction_real_price'].groupby(by=data['gu']).mean()\n",
    "grouped"
   ]
  },
  {
   "cell_type": "code",
   "execution_count": 13,
   "id": "a4a60aac-ae60-4cae-baa2-cf983b9da3b7",
   "metadata": {
    "executionInfo": {
     "elapsed": 323886,
     "status": "ok",
     "timestamp": 1664180717199,
     "user": {
      "displayName": "방승욱",
      "userId": "11597218228423641910"
     },
     "user_tz": -540
    },
    "id": "a4a60aac-ae60-4cae-baa2-cf983b9da3b7"
   },
   "outputs": [],
   "source": [
    "grouped = data['transaction_real_price'].groupby(by=data['dong']).mean()\n",
    "dong_price = grouped.sort_values(ascending=False)\n",
    "\n",
    "for i, k in enumerate(dong_price.index):\n",
    "    data.loc[data['dong'] == k, 'dong'] = i"
   ]
  },
  {
   "cell_type": "code",
   "execution_count": 14,
   "id": "9d60f083-2aa6-4f54-91cb-4a658b82ffdf",
   "metadata": {
    "executionInfo": {
     "elapsed": 5,
     "status": "ok",
     "timestamp": 1664180717201,
     "user": {
      "displayName": "방승욱",
      "userId": "11597218228423641910"
     },
     "user_tz": -540
    },
    "id": "9d60f083-2aa6-4f54-91cb-4a658b82ffdf"
   },
   "outputs": [],
   "source": [
    "data['dong'] = data['dong'].astype(int)"
   ]
  },
  {
   "cell_type": "code",
   "execution_count": 15,
   "id": "418768c1-d35b-4425-8381-ab42bbb05d8a",
   "metadata": {
    "executionInfo": {
     "elapsed": 4502,
     "status": "ok",
     "timestamp": 1664180721698,
     "user": {
      "displayName": "방승욱",
      "userId": "11597218228423641910"
     },
     "user_tz": -540
    },
    "id": "418768c1-d35b-4425-8381-ab42bbb05d8a"
   },
   "outputs": [],
   "source": [
    "grouped = data['transaction_real_price'].groupby(data['city']).mean()\n",
    "grouped\n",
    "\n",
    "data['city'] = data['city'].apply(lambda x: 1 if x == '서울' else 0)"
   ]
  },
  {
   "cell_type": "code",
   "execution_count": 16,
   "id": "249d2855-9af1-4338-975a-024af9f5ed60",
   "metadata": {
    "colab": {
     "base_uri": "https://localhost:8080/"
    },
    "executionInfo": {
     "elapsed": 9900,
     "status": "ok",
     "timestamp": 1664180731588,
     "user": {
      "displayName": "방승욱",
      "userId": "11597218228423641910"
     },
     "user_tz": -540
    },
    "id": "249d2855-9af1-4338-975a-024af9f5ed60",
    "outputId": "5d70f73f-04c2-4a2f-a20b-0a5ffc3b2e75"
   },
   "outputs": [
    {
     "data": {
      "text/plain": [
       "0            신현\n",
       "1        사직파크맨션\n",
       "2        두레엘리시안\n",
       "3         파크팰리스\n",
       "4          킹스매너\n",
       "         ...   \n",
       "5458        위너스\n",
       "5459    래미안퍼스티지\n",
       "5460      삼성래미안\n",
       "5461       동양드림\n",
       "5462     센텀그린타워\n",
       "Name: apt, Length: 1222016, dtype: object"
      ]
     },
     "execution_count": 16,
     "metadata": {},
     "output_type": "execute_result"
    }
   ],
   "source": [
    "regex = lambda x: re.sub('\\(.*\\)|\\s-\\s.*', '', x)\n",
    "data['apt'] = data['apt'].apply(regex)\n",
    "\n",
    "data['apt']"
   ]
  },
  {
   "cell_type": "code",
   "execution_count": 17,
   "id": "6bb8af27-6598-45c4-a0ec-ea6d3b9243ed",
   "metadata": {
    "colab": {
     "base_uri": "https://localhost:8080/"
    },
    "executionInfo": {
     "elapsed": 797,
     "status": "ok",
     "timestamp": 1664180732382,
     "user": {
      "displayName": "방승욱",
      "userId": "11597218228423641910"
     },
     "user_tz": -540
    },
    "id": "6bb8af27-6598-45c4-a0ec-ea6d3b9243ed",
    "outputId": "e195a6cc-c6e8-4d02-b3e2-56299f1a3719"
   },
   "outputs": [
    {
     "data": {
      "text/plain": [
       "apt\n",
       "상지리츠빌카일룸2차     530000.000000\n",
       "트라움하우스3        490000.000000\n",
       "아펠바움           465860.500000\n",
       "상지리츠빌카일룸3차     427125.000000\n",
       "삼성동상지리츠빌카일룸    418992.666667\n",
       "                   ...      \n",
       "강남한신휴플러스6단지     69235.200000\n",
       "우성4차            69220.270270\n",
       "현대레이크빌1         69220.000000\n",
       "가락삼익맨숀          69214.256684\n",
       "힐튼빌리지2차         69187.500000\n",
       "Name: transaction_real_price, Length: 1000, dtype: float64"
      ]
     },
     "execution_count": 17,
     "metadata": {},
     "output_type": "execute_result"
    }
   ],
   "source": [
    "grouped = data['transaction_real_price'].groupby(by=data['apt']).mean()\n",
    "apt_price_top100 = grouped.sort_values(ascending=False)[:1000]\n",
    "\n",
    "apt_price_top100"
   ]
  },
  {
   "cell_type": "code",
   "execution_count": 18,
   "id": "6a737145-77d3-49eb-8674-535d8ac394b2",
   "metadata": {
    "colab": {
     "base_uri": "https://localhost:8080/"
    },
    "executionInfo": {
     "elapsed": 1006,
     "status": "ok",
     "timestamp": 1664180733386,
     "user": {
      "displayName": "방승욱",
      "userId": "11597218228423641910"
     },
     "user_tz": -540
    },
    "id": "6a737145-77d3-49eb-8674-535d8ac394b2",
    "outputId": "72ed7990-f7e6-4506-c055-38cbcd0e9022"
   },
   "outputs": [
    {
     "data": {
      "text/plain": [
       "apt\n",
       "현대         17716\n",
       "한신         10135\n",
       "삼성          6771\n",
       "대우          6390\n",
       "신동아         6386\n",
       "           ...  \n",
       "문현삼성힐타워      298\n",
       "왕자           297\n",
       "성지           297\n",
       "위례24단지       297\n",
       "국제산장         297\n",
       "Name: transaction_real_price, Length: 1000, dtype: int64"
      ]
     },
     "execution_count": 18,
     "metadata": {},
     "output_type": "execute_result"
    }
   ],
   "source": [
    "grouped = data['transaction_real_price'].groupby(by=data['apt']).count()\n",
    "apt_count_top100 = grouped.sort_values(ascending=False)[:1000]\n",
    "\n",
    "apt_count_top100"
   ]
  },
  {
   "cell_type": "code",
   "execution_count": 19,
   "id": "36373207-dc74-432a-b1cc-06c3f2eb8baf",
   "metadata": {
    "colab": {
     "base_uri": "https://localhost:8080/"
    },
    "executionInfo": {
     "elapsed": 903,
     "status": "ok",
     "timestamp": 1664180734287,
     "user": {
      "displayName": "방승욱",
      "userId": "11597218228423641910"
     },
     "user_tz": -540
    },
    "id": "36373207-dc74-432a-b1cc-06c3f2eb8baf",
    "outputId": "015a6c40-78f3-4278-c4c2-dcbb7f405b7a"
   },
   "outputs": [
    {
     "data": {
      "text/plain": [
       "{'2차한양아파트',\n",
       " 'DMC파크뷰자이1단지',\n",
       " 'e-편한세상',\n",
       " '가락삼익맨숀',\n",
       " '강서힐스테이트',\n",
       " '강촌',\n",
       " '개포주공 1단지',\n",
       " '개포주공 3단지',\n",
       " '개포주공 4단지',\n",
       " '개포주공 5단지',\n",
       " '개포주공 6단지',\n",
       " '개포주공 7단지',\n",
       " '고덕 아이파크',\n",
       " '광화문풍림스페이스본',\n",
       " '대림e-편한세상4',\n",
       " '대치삼성',\n",
       " '대치아이파크',\n",
       " '대치현대',\n",
       " '더샵스타시티',\n",
       " '도곡렉슬',\n",
       " '동부센트레빌',\n",
       " '둔촌주공2단지',\n",
       " '둔촌주공3단지',\n",
       " '둔촌주공4단지',\n",
       " '래미안 옥수 리버젠',\n",
       " '래미안그레이튼',\n",
       " '래미안파크팰리스',\n",
       " '래미안퍼스티지',\n",
       " '레이크팰리스',\n",
       " '롯데캐슬갤럭시',\n",
       " '롯데캐슬클래식',\n",
       " '롯데캐슬프레미어',\n",
       " '리센츠',\n",
       " '메세나폴리스',\n",
       " '목동신시가지1',\n",
       " '목동신시가지13',\n",
       " '목동신시가지2',\n",
       " '목동신시가지3',\n",
       " '목동신시가지5',\n",
       " '목동신시가지7',\n",
       " '목동신시가지9',\n",
       " '문래자이',\n",
       " '문정래미안',\n",
       " '미성2차',\n",
       " '반포 주공1단지',\n",
       " '반포경남아파트',\n",
       " '반포리체',\n",
       " '반포미도',\n",
       " '반포자이',\n",
       " '방배1차현대홈타운',\n",
       " '삼부',\n",
       " '삼성동힐스테이트 1단지',\n",
       " '삼풍아파트',\n",
       " '상도엠코타운애스톤파크',\n",
       " '상록수',\n",
       " '상암월드컵파크4단지',\n",
       " '서초래미안',\n",
       " '송파삼성래미안아파트',\n",
       " '시범',\n",
       " '신동아1',\n",
       " '신반포2',\n",
       " '신반포4',\n",
       " '신반포8',\n",
       " '아이파크',\n",
       " '에이아이디차관주택',\n",
       " '역삼래미안',\n",
       " '역삼푸르지오',\n",
       " '올림픽선수기자촌1단지',\n",
       " '올림픽선수기자촌2단지',\n",
       " '올림픽선수기자촌3단지',\n",
       " '우성아파트',\n",
       " '은마',\n",
       " '이수힐스테이트',\n",
       " '잠실엘스',\n",
       " '장미1',\n",
       " '장미2',\n",
       " '주공아파트 5단지',\n",
       " '진주',\n",
       " '진흥',\n",
       " '청구e편한세상',\n",
       " '청담삼익아파트',\n",
       " '타워팰리스1',\n",
       " '타워팰리스2',\n",
       " '트리지움',\n",
       " '파크리오',\n",
       " '한가람',\n",
       " '한강',\n",
       " '한남더힐',\n",
       " '한보미도맨션1',\n",
       " '한보미도맨션2',\n",
       " '한신3차',\n",
       " '한양1차',\n",
       " '해운대 l PARK',\n",
       " '해운대두산위브더제니스',\n",
       " '현대3차',\n",
       " '현대맨숀',\n",
       " '훼밀리',\n",
       " '흑석한강센트레빌Ⅱ',\n",
       " '흑석한강푸르지오'}"
      ]
     },
     "execution_count": 19,
     "metadata": {},
     "output_type": "execute_result"
    }
   ],
   "source": [
    "most_name = (set(apt_price_top100.reset_index()['apt']) & set(apt_count_top100.reset_index()['apt']))\n",
    "most_name\n"
   ]
  },
  {
   "cell_type": "code",
   "execution_count": 20,
   "id": "ef72da16-21bb-49f5-8a1d-dd241c54d1ef",
   "metadata": {
    "colab": {
     "base_uri": "https://localhost:8080/",
     "height": 363
    },
    "executionInfo": {
     "elapsed": 5760,
     "status": "error",
     "timestamp": 1664180740045,
     "user": {
      "displayName": "방승욱",
      "userId": "11597218228423641910"
     },
     "user_tz": -540
    },
    "id": "ef72da16-21bb-49f5-8a1d-dd241c54d1ef",
    "outputId": "4213cab2-2aa7-41ad-a0c2-f03873f97d90"
   },
   "outputs": [],
   "source": [
    "# 토큰화\n",
    "for name in most_name:\n",
    "    data[f'{name}'] = data['apt'].str.contains(name).astype('int')"
   ]
  },
  {
   "cell_type": "code",
   "execution_count": 21,
   "id": "7a403c1c-86b1-4a2a-b747-d2593ade3fd6",
   "metadata": {
    "executionInfo": {
     "elapsed": 27,
     "status": "aborted",
     "timestamp": 1664180740046,
     "user": {
      "displayName": "방승욱",
      "userId": "11597218228423641910"
     },
     "user_tz": -540
    },
    "id": "7a403c1c-86b1-4a2a-b747-d2593ade3fd6"
   },
   "outputs": [],
   "source": [
    "data.drop(columns=['apt', 'addr_kr', 'jibun'], inplace=True)"
   ]
  },
  {
   "cell_type": "code",
   "execution_count": 22,
   "id": "bf2dbc51-935a-41b4-bbf1-e09c84ae8e6b",
   "metadata": {
    "executionInfo": {
     "elapsed": 26,
     "status": "aborted",
     "timestamp": 1664180740046,
     "user": {
      "displayName": "방승욱",
      "userId": "11597218228423641910"
     },
     "user_tz": -540
    },
    "id": "bf2dbc51-935a-41b4-bbf1-e09c84ae8e6b"
   },
   "outputs": [
    {
     "data": {
      "text/plain": [
       "city\n",
       "1    49169.779317\n",
       "0    21102.045856\n",
       "Name: transaction_real_price, dtype: float64"
      ]
     },
     "execution_count": 22,
     "metadata": {},
     "output_type": "execute_result"
    }
   ],
   "source": [
    "grouped = data['transaction_real_price'].groupby(by=data['city']).mean()\n",
    "apt_price_top100 = grouped.sort_values(ascending=False)[:100]\n",
    "\n",
    "apt_price_top100"
   ]
  },
  {
   "cell_type": "code",
   "execution_count": 23,
   "id": "078871e2-1a2d-4dec-9d81-8c24220587a5",
   "metadata": {
    "executionInfo": {
     "elapsed": 27,
     "status": "aborted",
     "timestamp": 1664180740047,
     "user": {
      "displayName": "방승욱",
      "userId": "11597218228423641910"
     },
     "user_tz": -540
    },
    "id": "078871e2-1a2d-4dec-9d81-8c24220587a5"
   },
   "outputs": [
    {
     "data": {
      "text/plain": [
       "gu\n",
       "서울용산구     80325.633789\n",
       "서울송파구     69447.390203\n",
       "서울성동구     66043.581737\n",
       "서울마포구     55152.987777\n",
       "서울중구      54279.653664\n",
       "서울영등포구    49252.175420\n",
       "서울종로구     48968.885914\n",
       "서울관악구     42953.450617\n",
       "서울강동구     41080.281168\n",
       "서울서대문구    41020.762013\n",
       "서울은평구     38371.311883\n",
       "서울동대문구    37553.361541\n",
       "서울성북구     31381.920270\n",
       "부산강서구     31240.298350\n",
       "서울중랑구     30611.301468\n",
       "서울동작구     28930.000000\n",
       "부산해운대구    26907.117468\n",
       "서울금천구     26812.244082\n",
       "부산수영구     26188.155107\n",
       "부산연제구     24178.487135\n",
       "부산남구      23469.688425\n",
       "부산동래구     23279.718287\n",
       "부산금정구     22736.463471\n",
       "부산기장군     19655.473365\n",
       "부산서구      19592.257367\n",
       "부산부산진구    18753.698471\n",
       "부산동구      18717.596677\n",
       "부산북구      17981.371051\n",
       "부산사하구     15141.810976\n",
       "부산사상구     14933.562957\n",
       "부산영도구     14159.843340\n",
       "부산중구      13321.269319\n",
       "Name: transaction_real_price, dtype: float64"
      ]
     },
     "execution_count": 23,
     "metadata": {},
     "output_type": "execute_result"
    }
   ],
   "source": [
    "grouped = data['transaction_real_price'].groupby(by=data['gu']).mean()\n",
    "apt_price_top100 = grouped.sort_values(ascending=False)[:100]\n",
    "\n",
    "apt_price_top100"
   ]
  },
  {
   "cell_type": "code",
   "execution_count": 24,
   "id": "c23a31f6-ac30-4c5b-9ea6-cccdd74ab087",
   "metadata": {
    "executionInfo": {
     "elapsed": 27,
     "status": "aborted",
     "timestamp": 1664180740047,
     "user": {
      "displayName": "방승욱",
      "userId": "11597218228423641910"
     },
     "user_tz": -540
    },
    "id": "c23a31f6-ac30-4c5b-9ea6-cccdd74ab087"
   },
   "outputs": [
    {
     "data": {
      "text/plain": [
       "dong\n",
       "0     269888.888889\n",
       "1     164534.722914\n",
       "2     161403.700000\n",
       "3     153497.331633\n",
       "4     139906.140351\n",
       "          ...      \n",
       "95     53131.640288\n",
       "96     53113.386275\n",
       "97     52965.720034\n",
       "98     52300.889831\n",
       "99     51930.730435\n",
       "Name: transaction_real_price, Length: 100, dtype: float64"
      ]
     },
     "execution_count": 24,
     "metadata": {},
     "output_type": "execute_result"
    }
   ],
   "source": [
    "grouped = data['transaction_real_price'].groupby(by=data['dong']).mean()\n",
    "apt_price_top100 = grouped.sort_values(ascending=False)[:100]\n",
    "\n",
    "apt_price_top100"
   ]
  },
  {
   "cell_type": "code",
   "execution_count": 25,
   "id": "77163622-2300-4ff6-a17f-7480fa474efe",
   "metadata": {
    "executionInfo": {
     "elapsed": 27,
     "status": "aborted",
     "timestamp": 1664180740048,
     "user": {
      "displayName": "방승욱",
      "userId": "11597218228423641910"
     },
     "user_tz": -540
    },
    "id": "77163622-2300-4ff6-a17f-7480fa474efe"
   },
   "outputs": [],
   "source": [
    "train_sample = data[:train_len]"
   ]
  },
  {
   "cell_type": "code",
   "execution_count": 26,
   "id": "d00dcaf3-807d-4ef1-98a7-30810a314afa",
   "metadata": {
    "executionInfo": {
     "elapsed": 27,
     "status": "aborted",
     "timestamp": 1664180740048,
     "user": {
      "displayName": "방승욱",
      "userId": "11597218228423641910"
     },
     "user_tz": -540
    },
    "id": "d00dcaf3-807d-4ef1-98a7-30810a314afa"
   },
   "outputs": [],
   "source": [
    "train_sample['transaction_year_month'] = train_sample['transaction_year_month'].astype(str)"
   ]
  },
  {
   "cell_type": "code",
   "execution_count": 27,
   "id": "29c24af8-2f49-4501-b18c-8deabab2c46a",
   "metadata": {
    "executionInfo": {
     "elapsed": 27,
     "status": "aborted",
     "timestamp": 1664180740048,
     "user": {
      "displayName": "방승욱",
      "userId": "11597218228423641910"
     },
     "user_tz": -540
    },
    "id": "29c24af8-2f49-4501-b18c-8deabab2c46a"
   },
   "outputs": [],
   "source": [
    "train_year = train_sample.copy()\n",
    "train_month = train_sample.copy()"
   ]
  },
  {
   "cell_type": "code",
   "execution_count": 28,
   "id": "aabdaf0d-f9e4-476b-b94a-a3ea0f391842",
   "metadata": {
    "executionInfo": {
     "elapsed": 26,
     "status": "aborted",
     "timestamp": 1664180740048,
     "user": {
      "displayName": "방승욱",
      "userId": "11597218228423641910"
     },
     "user_tz": -540
    },
    "id": "aabdaf0d-f9e4-476b-b94a-a3ea0f391842"
   },
   "outputs": [],
   "source": [
    "train_year['transaction_year_month'] = train_sample['transaction_year_month'].apply(lambda i:i[:-2])\n",
    "train_month['transaction_year_month'] = train_sample['transaction_year_month'].apply(lambda i:i[2:])"
   ]
  },
  {
   "cell_type": "code",
   "execution_count": 29,
   "id": "3f44c1cd-45d5-47f5-9e7e-a6c171b0ec9f",
   "metadata": {
    "executionInfo": {
     "elapsed": 27,
     "status": "aborted",
     "timestamp": 1664180740049,
     "user": {
      "displayName": "방승욱",
      "userId": "11597218228423641910"
     },
     "user_tz": -540
    },
    "id": "3f44c1cd-45d5-47f5-9e7e-a6c171b0ec9f"
   },
   "outputs": [],
   "source": [
    "seoul_year = train_year[train_year['city'] == 1]\n",
    "busan_year = train_year[train_year['city'] == 0]\n",
    "seoul_month = train_month[train_month['city'] == 1]\n",
    "busan_month = train_month[train_month['city'] == 0]"
   ]
  },
  {
   "cell_type": "code",
   "execution_count": 30,
   "id": "224b5d62-d1e4-4e99-a2b8-99f662e122fc",
   "metadata": {
    "executionInfo": {
     "elapsed": 27,
     "status": "aborted",
     "timestamp": 1664180740049,
     "user": {
      "displayName": "방승욱",
      "userId": "11597218228423641910"
     },
     "user_tz": -540
    },
    "id": "224b5d62-d1e4-4e99-a2b8-99f662e122fc"
   },
   "outputs": [],
   "source": [
    "train = data[:train_len]\n",
    "test = data[train_len:]"
   ]
  },
  {
   "cell_type": "code",
   "execution_count": 31,
   "id": "9358ea2e-0a1d-4e08-b2c7-4f66ec4c8631",
   "metadata": {
    "executionInfo": {
     "elapsed": 26,
     "status": "aborted",
     "timestamp": 1664180740054,
     "user": {
      "displayName": "방승욱",
      "userId": "11597218228423641910"
     },
     "user_tz": -540
    },
    "id": "9358ea2e-0a1d-4e08-b2c7-4f66ec4c8631"
   },
   "outputs": [],
   "source": [
    "grouped = data['transaction_real_price'].groupby(by=data['gu']).mean()\n",
    "\n",
    "gu_price = grouped.sort_values(ascending=False)\n",
    "\n",
    "for i, k in enumerate(gu_price.index):\n",
    "    data.loc[data['gu'] == k, 'gu'] = i"
   ]
  },
  {
   "cell_type": "code",
   "execution_count": 32,
   "id": "f81f53a2-1dfa-4e5d-bc68-96f3acac532a",
   "metadata": {
    "executionInfo": {
     "elapsed": 26,
     "status": "aborted",
     "timestamp": 1664180740054,
     "user": {
      "displayName": "방승욱",
      "userId": "11597218228423641910"
     },
     "user_tz": -540
    },
    "id": "f81f53a2-1dfa-4e5d-bc68-96f3acac532a"
   },
   "outputs": [],
   "source": [
    "data['gu'] = data['gu'].astype(int)"
   ]
  },
  {
   "cell_type": "markdown",
   "id": "6bfa4aec-678e-4587-b803-0c4cb3cd49d1",
   "metadata": {
    "id": "6bfa4aec-678e-4587-b803-0c4cb3cd49d1"
   },
   "source": [
    "# 데이터 정규화"
   ]
  },
  {
   "cell_type": "code",
   "execution_count": 33,
   "id": "b43ae043-5a46-4000-9528-2990c757141b",
   "metadata": {
    "executionInfo": {
     "elapsed": 26,
     "status": "aborted",
     "timestamp": 1664180740055,
     "user": {
      "displayName": "방승욱",
      "userId": "11597218228423641910"
     },
     "user_tz": -540
    },
    "id": "b43ae043-5a46-4000-9528-2990c757141b"
   },
   "outputs": [],
   "source": [
    "del data['transaction_date']"
   ]
  },
  {
   "cell_type": "code",
   "execution_count": 34,
   "id": "d7f20713-9b3c-4376-9f92-95fb2d8490a4",
   "metadata": {
    "executionInfo": {
     "elapsed": 26,
     "status": "aborted",
     "timestamp": 1664180740055,
     "user": {
      "displayName": "방승욱",
      "userId": "11597218228423641910"
     },
     "user_tz": -540
    },
    "id": "d7f20713-9b3c-4376-9f92-95fb2d8490a4"
   },
   "outputs": [],
   "source": [
    "t = data['transaction_year_month'].min()//100\n",
    "data['transaction_year_month'] = data['transaction_year_month'].apply(lambda x: ((x//100) - t) * 12 + (x%100))"
   ]
  },
  {
   "cell_type": "code",
   "execution_count": 35,
   "id": "166b0253-0596-4461-aa30-d8ed73740065",
   "metadata": {
    "executionInfo": {
     "elapsed": 24,
     "status": "aborted",
     "timestamp": 1664180740056,
     "user": {
      "displayName": "방승욱",
      "userId": "11597218228423641910"
     },
     "user_tz": -540
    },
    "id": "166b0253-0596-4461-aa30-d8ed73740065"
   },
   "outputs": [],
   "source": [
    "data['floor'] += 5"
   ]
  },
  {
   "cell_type": "code",
   "execution_count": 36,
   "id": "51529144-f5d9-49ba-8ce2-b85954e9234e",
   "metadata": {
    "executionInfo": {
     "elapsed": 24,
     "status": "aborted",
     "timestamp": 1664180740056,
     "user": {
      "displayName": "방승욱",
      "userId": "11597218228423641910"
     },
     "user_tz": -540
    },
    "id": "51529144-f5d9-49ba-8ce2-b85954e9234e"
   },
   "outputs": [],
   "source": [
    "log_columns = ['apartment_id', 'dong', 'exclusive_use_area', 'year_of_completion', 'transaction_year_month', 'floor', 'gu', 'transaction_real_price']\n",
    "\n",
    "for i in log_columns:\n",
    "    data[i] = np.log1p(data[i].values)"
   ]
  },
  {
   "cell_type": "code",
   "execution_count": 37,
   "id": "ba12b3ee-08d1-4cf6-90ae-bc0666a8be49",
   "metadata": {
    "executionInfo": {
     "elapsed": 24,
     "status": "aborted",
     "timestamp": 1664180740056,
     "user": {
      "displayName": "방승욱",
      "userId": "11597218228423641910"
     },
     "user_tz": -540
    },
    "id": "ba12b3ee-08d1-4cf6-90ae-bc0666a8be49"
   },
   "outputs": [],
   "source": [
    "train = data[:train_len] \n",
    "test = data[train_len:]"
   ]
  },
  {
   "cell_type": "code",
   "execution_count": 38,
   "id": "94460393-61f4-4814-b7d0-d94bef287971",
   "metadata": {
    "executionInfo": {
     "elapsed": 23,
     "status": "aborted",
     "timestamp": 1664180740056,
     "user": {
      "displayName": "방승욱",
      "userId": "11597218228423641910"
     },
     "user_tz": -540
    },
    "id": "94460393-61f4-4814-b7d0-d94bef287971"
   },
   "outputs": [],
   "source": [
    "train_id = train['transaction_id']\n",
    "price = train['transaction_real_price']\n",
    "\n",
    "del train['transaction_real_price']\n",
    "del train['transaction_id']"
   ]
  },
  {
   "cell_type": "code",
   "execution_count": 39,
   "id": "bcb4a2ec-e775-4bbd-9b6f-d844ee6b4675",
   "metadata": {
    "executionInfo": {
     "elapsed": 24,
     "status": "aborted",
     "timestamp": 1664180740057,
     "user": {
      "displayName": "방승욱",
      "userId": "11597218228423641910"
     },
     "user_tz": -540
    },
    "id": "bcb4a2ec-e775-4bbd-9b6f-d844ee6b4675"
   },
   "outputs": [],
   "source": [
    "from sklearn.model_selection import train_test_split\n",
    "from sklearn.metrics import classification_report"
   ]
  },
  {
   "cell_type": "code",
   "execution_count": 40,
   "id": "55e6bcf1-8662-452c-b881-95748c69d610",
   "metadata": {
    "executionInfo": {
     "elapsed": 24,
     "status": "aborted",
     "timestamp": 1664180740057,
     "user": {
      "displayName": "방승욱",
      "userId": "11597218228423641910"
     },
     "user_tz": -540
    },
    "id": "55e6bcf1-8662-452c-b881-95748c69d610"
   },
   "outputs": [],
   "source": [
    "x_train, x_test, y_train, y_test = train_test_split(train,\n",
    "                                                    price,\n",
    "                                                    test_size = 0.2,\n",
    "                                                    random_state = 42)"
   ]
  },
  {
   "cell_type": "code",
   "execution_count": 41,
   "id": "5aa45767-9792-4bac-a979-a52aa1d002e6",
   "metadata": {
    "executionInfo": {
     "elapsed": 24,
     "status": "aborted",
     "timestamp": 1664180740057,
     "user": {
      "displayName": "방승욱",
      "userId": "11597218228423641910"
     },
     "user_tz": -540
    },
    "id": "5aa45767-9792-4bac-a979-a52aa1d002e6"
   },
   "outputs": [],
   "source": [
    "# 손실함수 MSE 함수 정의\n",
    "\n",
    "def MSE(a,b):\n",
    "    mse = ((a-b)**2).mean() # 두 값의 차이의 제곱의 평균\n",
    "    return mse\n",
    "\n",
    "# 손실함수 RMSE 함수 정의\n",
    "\n",
    "def RMSE(a, b):\n",
    "    mse = ((a - b) ** 2).mean() # 두 값의 차이의 제곱의 평균\n",
    "    rmse = mse ** 0.5 # mse의 제곱근\n",
    "    return rmse"
   ]
  },
  {
   "cell_type": "code",
   "execution_count": 42,
   "id": "841cb497-ad82-4204-a704-a80d8bbb4d67",
   "metadata": {
    "executionInfo": {
     "elapsed": 25,
     "status": "aborted",
     "timestamp": 1664180740058,
     "user": {
      "displayName": "방승욱",
      "userId": "11597218228423641910"
     },
     "user_tz": -540
    },
    "id": "841cb497-ad82-4204-a704-a80d8bbb4d67"
   },
   "outputs": [],
   "source": [
    "from sklearn.ensemble import RandomForestRegressor\n",
    "\n",
    "model = RandomForestRegressor(random_state=42, n_jobs = -1)"
   ]
  },
  {
   "cell_type": "code",
   "execution_count": 44,
   "id": "50723ee7-c8c7-4b58-ae29-3450ed8f9b57",
   "metadata": {
    "executionInfo": {
     "elapsed": 24,
     "status": "aborted",
     "timestamp": 1664180740058,
     "user": {
      "displayName": "방승욱",
      "userId": "11597218228423641910"
     },
     "user_tz": -540
    },
    "id": "50723ee7-c8c7-4b58-ae29-3450ed8f9b57"
   },
   "outputs": [],
   "source": [
    "model = RandomForestRegressor(random_state=42, n_jobs = -1)\n",
    "model.fit(x_train, y_train)\n",
    "R_pred = model.predict(test)"
   ]
  },
  {
   "cell_type": "code",
   "execution_count": 82,
   "id": "3e74186c",
   "metadata": {},
   "outputs": [],
   "source": [
    "del test['transaction_real_price']"
   ]
  },
  {
   "cell_type": "code",
   "execution_count": 106,
   "id": "8942ba04",
   "metadata": {},
   "outputs": [],
   "source": [
    "R_pred = model.predict(x_test)\n",
    "sub_pred = model.predict(test)"
   ]
  },
  {
   "cell_type": "code",
   "execution_count": 45,
   "id": "59bcf873-8c95-4fe0-ba4d-5e1167ce9edb",
   "metadata": {
    "executionInfo": {
     "elapsed": 25,
     "status": "aborted",
     "timestamp": 1664180740059,
     "user": {
      "displayName": "방승욱",
      "userId": "11597218228423641910"
     },
     "user_tz": -540
    },
    "id": "59bcf873-8c95-4fe0-ba4d-5e1167ce9edb"
   },
   "outputs": [],
   "source": [
    "y_label = np.expm1(y_test)\n",
    "prediction = np.expm1(R_pred)"
   ]
  },
  {
   "cell_type": "code",
   "execution_count": 108,
   "id": "dffbcf78",
   "metadata": {},
   "outputs": [],
   "source": [
    "R_pred = np.expm1(R_pred)"
   ]
  },
  {
   "cell_type": "code",
   "execution_count": 96,
   "id": "7537d2be-115e-4d3d-b1c0-98a3aff4a268",
   "metadata": {
    "executionInfo": {
     "elapsed": 25,
     "status": "aborted",
     "timestamp": 1664180740059,
     "user": {
      "displayName": "방승욱",
      "userId": "11597218228423641910"
     },
     "user_tz": -540
    },
    "id": "7537d2be-115e-4d3d-b1c0-98a3aff4a268"
   },
   "outputs": [
    {
     "data": {
      "text/plain": [
       "1098039     31000.0\n",
       "432251      30200.0\n",
       "565937      91500.0\n",
       "448502      23000.0\n",
       "439435      22000.0\n",
       "             ...   \n",
       "936587      16150.0\n",
       "879661      60500.0\n",
       "618015      52500.0\n",
       "947368      21000.0\n",
       "1172910    141500.0\n",
       "Name: transaction_real_price, Length: 243311, dtype: float64"
      ]
     },
     "execution_count": 96,
     "metadata": {},
     "output_type": "execute_result"
    }
   ],
   "source": [
    "y_label"
   ]
  },
  {
   "cell_type": "code",
   "execution_count": 100,
   "id": "723aa0f9-503d-4350-a3b7-0754b0c21f49",
   "metadata": {
    "executionInfo": {
     "elapsed": 25,
     "status": "aborted",
     "timestamp": 1664180740059,
     "user": {
      "displayName": "방승욱",
      "userId": "11597218228423641910"
     },
     "user_tz": -540
    },
    "id": "723aa0f9-503d-4350-a3b7-0754b0c21f49"
   },
   "outputs": [
    {
     "data": {
      "text/plain": [
       "array([36011.97386516, 12903.8161785 , 13326.42612094, ...,\n",
       "       58302.47524771, 47160.00325618, 15552.67863141])"
      ]
     },
     "execution_count": 100,
     "metadata": {},
     "output_type": "execute_result"
    }
   ],
   "source": [
    "prediction"
   ]
  },
  {
   "cell_type": "code",
   "execution_count": 102,
   "id": "389ecc7e",
   "metadata": {},
   "outputs": [
    {
     "data": {
      "text/plain": [
       "(243311,)"
      ]
     },
     "execution_count": 102,
     "metadata": {},
     "output_type": "execute_result"
    }
   ],
   "source": [
    "y_label.shape"
   ]
  },
  {
   "cell_type": "code",
   "execution_count": 104,
   "id": "0618b81d",
   "metadata": {},
   "outputs": [
    {
     "data": {
      "text/plain": [
       "1098039     31000.0\n",
       "432251      30200.0\n",
       "565937      91500.0\n",
       "448502      23000.0\n",
       "439435      22000.0\n",
       "             ...   \n",
       "936587      16150.0\n",
       "879661      60500.0\n",
       "618015      52500.0\n",
       "947368      21000.0\n",
       "1172910    141500.0\n",
       "Name: transaction_real_price, Length: 243311, dtype: float64"
      ]
     },
     "execution_count": 104,
     "metadata": {},
     "output_type": "execute_result"
    }
   ],
   "source": [
    "y_label"
   ]
  },
  {
   "cell_type": "code",
   "execution_count": 109,
   "id": "b1df453f-9c52-4122-ba66-412c6e4148b9",
   "metadata": {
    "executionInfo": {
     "elapsed": 25,
     "status": "aborted",
     "timestamp": 1664180740059,
     "user": {
      "displayName": "방승욱",
      "userId": "11597218228423641910"
     },
     "user_tz": -540
    },
    "id": "b1df453f-9c52-4122-ba66-412c6e4148b9"
   },
   "outputs": [
    {
     "data": {
      "text/plain": [
       "3886.908320604547"
      ]
     },
     "execution_count": 109,
     "metadata": {},
     "output_type": "execute_result"
    }
   ],
   "source": [
    "RMSE(y_label, R_pred)"
   ]
  },
  {
   "cell_type": "code",
   "execution_count": 103,
   "id": "279c65f2",
   "metadata": {},
   "outputs": [
    {
     "data": {
      "text/plain": [
       "(5463,)"
      ]
     },
     "execution_count": 103,
     "metadata": {},
     "output_type": "execute_result"
    }
   ],
   "source": [
    "prediction.shape"
   ]
  },
  {
   "cell_type": "code",
   "execution_count": 114,
   "id": "3393f050",
   "metadata": {},
   "outputs": [
    {
     "data": {
      "text/html": [
       "<div>\n",
       "<style scoped>\n",
       "    .dataframe tbody tr th:only-of-type {\n",
       "        vertical-align: middle;\n",
       "    }\n",
       "\n",
       "    .dataframe tbody tr th {\n",
       "        vertical-align: top;\n",
       "    }\n",
       "\n",
       "    .dataframe thead th {\n",
       "        text-align: right;\n",
       "    }\n",
       "</style>\n",
       "<table border=\"1\" class=\"dataframe\">\n",
       "  <thead>\n",
       "    <tr style=\"text-align: right;\">\n",
       "      <th></th>\n",
       "      <th>transaction_id</th>\n",
       "      <th>transaction_real_price</th>\n",
       "    </tr>\n",
       "  </thead>\n",
       "  <tbody>\n",
       "    <tr>\n",
       "      <th>0</th>\n",
       "      <td>1145756</td>\n",
       "      <td>0</td>\n",
       "    </tr>\n",
       "    <tr>\n",
       "      <th>1</th>\n",
       "      <td>1198704</td>\n",
       "      <td>0</td>\n",
       "    </tr>\n",
       "    <tr>\n",
       "      <th>2</th>\n",
       "      <td>1222384</td>\n",
       "      <td>0</td>\n",
       "    </tr>\n",
       "    <tr>\n",
       "      <th>3</th>\n",
       "      <td>1179897</td>\n",
       "      <td>0</td>\n",
       "    </tr>\n",
       "    <tr>\n",
       "      <th>4</th>\n",
       "      <td>1223091</td>\n",
       "      <td>0</td>\n",
       "    </tr>\n",
       "  </tbody>\n",
       "</table>\n",
       "</div>"
      ],
      "text/plain": [
       "   transaction_id  transaction_real_price\n",
       "0         1145756                       0\n",
       "1         1198704                       0\n",
       "2         1222384                       0\n",
       "3         1179897                       0\n",
       "4         1223091                       0"
      ]
     },
     "execution_count": 114,
     "metadata": {},
     "output_type": "execute_result"
    }
   ],
   "source": [
    "submission = pd.read_csv('~/00_Main/daton/220926/datathon_A_Team/submission.csv')\n",
    "submission.head()"
   ]
  },
  {
   "cell_type": "code",
   "execution_count": 115,
   "id": "de752967",
   "metadata": {},
   "outputs": [],
   "source": [
    "submission['transaction_real_price'] = prediction"
   ]
  },
  {
   "cell_type": "code",
   "execution_count": 116,
   "id": "41792f8e",
   "metadata": {},
   "outputs": [
    {
     "data": {
      "text/html": [
       "<div>\n",
       "<style scoped>\n",
       "    .dataframe tbody tr th:only-of-type {\n",
       "        vertical-align: middle;\n",
       "    }\n",
       "\n",
       "    .dataframe tbody tr th {\n",
       "        vertical-align: top;\n",
       "    }\n",
       "\n",
       "    .dataframe thead th {\n",
       "        text-align: right;\n",
       "    }\n",
       "</style>\n",
       "<table border=\"1\" class=\"dataframe\">\n",
       "  <thead>\n",
       "    <tr style=\"text-align: right;\">\n",
       "      <th></th>\n",
       "      <th>transaction_id</th>\n",
       "      <th>transaction_real_price</th>\n",
       "    </tr>\n",
       "  </thead>\n",
       "  <tbody>\n",
       "    <tr>\n",
       "      <th>0</th>\n",
       "      <td>1145756</td>\n",
       "      <td>36011.973865</td>\n",
       "    </tr>\n",
       "    <tr>\n",
       "      <th>1</th>\n",
       "      <td>1198704</td>\n",
       "      <td>12903.816178</td>\n",
       "    </tr>\n",
       "    <tr>\n",
       "      <th>2</th>\n",
       "      <td>1222384</td>\n",
       "      <td>13326.426121</td>\n",
       "    </tr>\n",
       "    <tr>\n",
       "      <th>3</th>\n",
       "      <td>1179897</td>\n",
       "      <td>114123.139864</td>\n",
       "    </tr>\n",
       "    <tr>\n",
       "      <th>4</th>\n",
       "      <td>1223091</td>\n",
       "      <td>46167.571987</td>\n",
       "    </tr>\n",
       "  </tbody>\n",
       "</table>\n",
       "</div>"
      ],
      "text/plain": [
       "   transaction_id  transaction_real_price\n",
       "0         1145756            36011.973865\n",
       "1         1198704            12903.816178\n",
       "2         1222384            13326.426121\n",
       "3         1179897           114123.139864\n",
       "4         1223091            46167.571987"
      ]
     },
     "execution_count": 116,
     "metadata": {},
     "output_type": "execute_result"
    }
   ],
   "source": [
    "submission.head()"
   ]
  },
  {
   "cell_type": "code",
   "execution_count": 119,
   "id": "ad317002",
   "metadata": {},
   "outputs": [],
   "source": [
    "submission.to_csv('~/00_Main/daton/220926/datathon_A_Team/practice.csv', index=False)"
   ]
  }
 ],
 "metadata": {
  "accelerator": "GPU",
  "colab": {
   "machine_shape": "hm",
   "provenance": []
  },
  "kernelspec": {
   "display_name": "Python 3 (ipykernel)",
   "language": "python",
   "name": "python3"
  },
  "language_info": {
   "codemirror_mode": {
    "name": "ipython",
    "version": 3
   },
   "file_extension": ".py",
   "mimetype": "text/x-python",
   "name": "python",
   "nbconvert_exporter": "python",
   "pygments_lexer": "ipython3",
   "version": "3.9.12"
  }
 },
 "nbformat": 4,
 "nbformat_minor": 5
}
