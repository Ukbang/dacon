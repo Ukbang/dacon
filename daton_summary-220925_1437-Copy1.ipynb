{
 "cells": [
  {
   "cell_type": "code",
   "execution_count": 65,
   "id": "080a1558",
   "metadata": {},
   "outputs": [],
   "source": [
    "import pandas as pd\n",
    "import numpy as np\n",
    "import matplotlib.pyplot as plt\n",
    "import seaborn as sns\n",
    "from os.path import join\n",
    "import os\n",
    "import missingno as msno\n",
    "\n",
    "import warnings\n",
    "warnings.filterwarnings('ignore')"
   ]
  },
  {
   "cell_type": "code",
   "execution_count": 66,
   "id": "f0fa91c1",
   "metadata": {},
   "outputs": [],
   "source": [
    "# train['transaction_year_month'] = train['transaction_year_month'].apply(lambda x: ((x//100) - t) * 12 + (x%100))"
   ]
  },
  {
   "cell_type": "code",
   "execution_count": null,
   "id": "36d2303c",
   "metadata": {},
   "outputs": [],
   "source": [
    "train = pd.read_csv('~/00_Main/daton/data/train.csv')"
   ]
  },
  {
   "cell_type": "code",
   "execution_count": null,
   "id": "442786bf",
   "metadata": {},
   "outputs": [],
   "source": [
    "train_year = train.copy()\n",
    "train_month = train.copy()"
   ]
  },
  {
   "cell_type": "code",
   "execution_count": null,
   "id": "af7e0273",
   "metadata": {},
   "outputs": [],
   "source": [
    "train.info()"
   ]
  },
  {
   "cell_type": "code",
   "execution_count": null,
   "id": "2ef44839",
   "metadata": {},
   "outputs": [],
   "source": [
    "train['transaction_year_month'] = train['transaction_year_month'].astype(str)"
   ]
  },
  {
   "cell_type": "code",
   "execution_count": null,
   "id": "decf2815",
   "metadata": {},
   "outputs": [],
   "source": [
    "#  transaction_year_month를 4글자로 변환\n",
    "train_year['transaction_year_month'] = train['transaction_year_month'].apply(lambda i:i[:-2])"
   ]
  },
  {
   "cell_type": "code",
   "execution_count": null,
   "id": "042fc4bc",
   "metadata": {},
   "outputs": [],
   "source": [
    "#  transaction_year_month를 4글자로 변환\n",
    "train_month['transaction_year_month'] = train['transaction_year_month'].apply(lambda i:i[2:])"
   ]
  },
  {
   "cell_type": "code",
   "execution_count": null,
   "id": "1c807f7d",
   "metadata": {},
   "outputs": [],
   "source": [
    "seoul = train[train['city'] == '서울']\n",
    "busan = train[train['city'] == '부산']"
   ]
  },
  {
   "cell_type": "code",
   "execution_count": null,
   "id": "a528a978",
   "metadata": {},
   "outputs": [],
   "source": [
    "seoul_year = train_year[train_year['city'] == '서울']\n",
    "busan_year = train_year[train_year['city'] == '부산']"
   ]
  },
  {
   "cell_type": "code",
   "execution_count": null,
   "id": "f377e010",
   "metadata": {},
   "outputs": [],
   "source": [
    "seoul_month = train_month[train_month['city'] == '서울']\n",
    "busan_month = train_month[train_month['city'] == '부산']"
   ]
  },
  {
   "cell_type": "code",
   "execution_count": null,
   "id": "36c1eb2e",
   "metadata": {},
   "outputs": [],
   "source": [
    "seoul.apt.value_counts()"
   ]
  },
  {
   "cell_type": "code",
   "execution_count": null,
   "id": "7280b4e3",
   "metadata": {},
   "outputs": [],
   "source": [
    "a = seoul.loc[seoul['apt'] == '현대']"
   ]
  },
  {
   "cell_type": "code",
   "execution_count": null,
   "id": "eaccb3f1",
   "metadata": {},
   "outputs": [],
   "source": [
    "fig, ax = plt.subplots(1, 1, figsize=(20, 20))\n",
    "\n",
    "sns.lineplot(data = a, x = 'transaction_year_month', y = 'transaction_real_price')\n",
    "plt.title('seoul_year price', fontsize=25)\n",
    "plt.show()"
   ]
  },
  {
   "cell_type": "markdown",
   "id": "694cc6bd",
   "metadata": {},
   "source": [
    "## 연도 별 가격 변화 그래프"
   ]
  },
  {
   "cell_type": "code",
   "execution_count": null,
   "id": "1cf10272",
   "metadata": {},
   "outputs": [],
   "source": [
    "fig, ax = plt.subplots(1, 1, figsize=(20, 20))\n",
    "\n",
    "sns.lineplot(data = seoul_year, x = 'transaction_year_month', y = 'transaction_real_price')\n",
    "plt.title('seoul_year price', fontsize=25)\n",
    "plt.show()"
   ]
  },
  {
   "cell_type": "code",
   "execution_count": null,
   "id": "228a143f",
   "metadata": {},
   "outputs": [],
   "source": [
    "fig, ax = plt.subplots(1, 1, figsize=(20, 20))\n",
    "\n",
    "sns.countplot(data = seoul_year, x ='transaction_year_month')\n",
    "sns.lineplot(data = seoul_year, x = 'transaction_year_month', y = 'transaction_real_price', color='r')\n",
    "plt.title('seoul_year price', fontsize=25)\n",
    "plt.show()"
   ]
  },
  {
   "cell_type": "code",
   "execution_count": null,
   "id": "fb46910f",
   "metadata": {},
   "outputs": [],
   "source": [
    "fig, ax = plt.subplots(1, 1, figsize=(20, 20))\n",
    "\n",
    "sns.lineplot(data = busan_year, x = 'transaction_year_month', y = 'transaction_real_price')\n",
    "plt.title('busan_year price', fontsize=25)\n",
    "plt.show()"
   ]
  },
  {
   "cell_type": "code",
   "execution_count": null,
   "id": "c0e61de1",
   "metadata": {},
   "outputs": [],
   "source": [
    "fig, ax = plt.subplots(1, 1, figsize=(20, 20))\n",
    "\n",
    "sns.lineplot(data = seoul_year, x = 'transaction_year_month', y = 'transaction_real_price')\n",
    "sns.lineplot(data = busan_year, x = 'transaction_year_month', y = 'transaction_real_price')\n",
    "plt.title('seoul_year vs busan_year', fontsize=25)\n",
    "plt.show()"
   ]
  },
  {
   "cell_type": "markdown",
   "id": "9e2fa275",
   "metadata": {},
   "source": [
    "## 연도 간 월 별 가격 변화 그래프"
   ]
  },
  {
   "cell_type": "code",
   "execution_count": null,
   "id": "09d4a3fe",
   "metadata": {},
   "outputs": [],
   "source": [
    "fig, ax = plt.subplots(1, 1, figsize=(20, 20))\n",
    "\n",
    "sns.lineplot(data = seoul_month, x = 'transaction_year_month', y = 'transaction_real_price')\n",
    "plt.title('seoul_month price', fontsize=25)\n",
    "plt.show()"
   ]
  },
  {
   "cell_type": "code",
   "execution_count": null,
   "id": "1c3f6942",
   "metadata": {},
   "outputs": [],
   "source": [
    "fig, ax = plt.subplots(1, 1, figsize=(20, 20))\n",
    "\n",
    "sns.lineplot(data = busan_month, x = 'transaction_year_month', y = 'transaction_real_price')\n",
    "plt.title('busan_month price', fontsize=25)\n",
    "plt.show()"
   ]
  },
  {
   "cell_type": "code",
   "execution_count": null,
   "id": "53268e03",
   "metadata": {},
   "outputs": [],
   "source": [
    "fig, ax = plt.subplots(1, 1, figsize=(20, 20))\n",
    "\n",
    "sns.lineplot(data = seoul_month, x = 'transaction_year_month', y = 'transaction_real_price')\n",
    "sns.lineplot(data = busan_month, x = 'transaction_year_month', y = 'transaction_real_price')\n",
    "plt.title('seoul_month vs busan_month price', fontsize=25)\n",
    "plt.show()"
   ]
  },
  {
   "cell_type": "markdown",
   "id": "e066ede0",
   "metadata": {},
   "source": [
    "## 월 별 변수로 나누기"
   ]
  },
  {
   "cell_type": "code",
   "execution_count": null,
   "id": "20c3f285",
   "metadata": {},
   "outputs": [],
   "source": [
    "s_0801 = seoul_month.loc[seoul_month['transaction_year_month']== '0801']\n",
    "s_0802 = seoul_month.loc[seoul_month['transaction_year_month']== '0802']\n",
    "s_0803 = seoul_month.loc[seoul_month['transaction_year_month']== '0803']\n",
    "s_0804 = seoul_month.loc[seoul_month['transaction_year_month']== '0804']\n",
    "s_0805 = seoul_month.loc[seoul_month['transaction_year_month']== '0805']\n",
    "s_0806 = seoul_month.loc[seoul_month['transaction_year_month']== '0806']\n",
    "s_0807 = seoul_month.loc[seoul_month['transaction_year_month']== '0807']\n",
    "s_0808 = seoul_month.loc[seoul_month['transaction_year_month']== '0808']\n",
    "s_0809 = seoul_month.loc[seoul_month['transaction_year_month']== '0809']\n",
    "s_0810 = seoul_month.loc[seoul_month['transaction_year_month']== '0810']\n",
    "s_0811 = seoul_month.loc[seoul_month['transaction_year_month']== '0811']\n",
    "s_0812 = seoul_month.loc[seoul_month['transaction_year_month']== '0812']\n",
    "\n",
    "s_month_08 = pd.concat([s_0801, s_0802, s_0803,s_0804, s_0805, s_0806, s_0807, s_0808, s_0809, s_0810, s_0811, s_0812] ,axis = 0)\n",
    "\n",
    "s_0901 = seoul_month.loc[seoul_month['transaction_year_month']== '0901']\n",
    "s_0902 = seoul_month.loc[seoul_month['transaction_year_month']== '0902']\n",
    "s_0903 = seoul_month.loc[seoul_month['transaction_year_month']== '0903']\n",
    "s_0904 = seoul_month.loc[seoul_month['transaction_year_month']== '0904']\n",
    "s_0905 = seoul_month.loc[seoul_month['transaction_year_month']== '0905']\n",
    "s_0906 = seoul_month.loc[seoul_month['transaction_year_month']== '0906']\n",
    "s_0907 = seoul_month.loc[seoul_month['transaction_year_month']== '0907']\n",
    "s_0908 = seoul_month.loc[seoul_month['transaction_year_month']== '0908']\n",
    "s_0909 = seoul_month.loc[seoul_month['transaction_year_month']== '0909']\n",
    "s_0910 = seoul_month.loc[seoul_month['transaction_year_month']== '0910']\n",
    "s_0911 = seoul_month.loc[seoul_month['transaction_year_month']== '0911']\n",
    "s_0912 = seoul_month.loc[seoul_month['transaction_year_month']== '0912']\n",
    "\n",
    "s_month_09 = pd.concat([s_0901, s_0902, s_0903, s_0904, s_0905, s_0906, s_0907, s_0908, s_0909, s_0910, s_0911, s_0912] ,axis = 0)\n",
    "\n",
    "s_1001 = seoul_month.loc[seoul_month['transaction_year_month']== '1001']\n",
    "s_1002 = seoul_month.loc[seoul_month['transaction_year_month']== '1002']\n",
    "s_1003 = seoul_month.loc[seoul_month['transaction_year_month']== '1003']\n",
    "s_1004 = seoul_month.loc[seoul_month['transaction_year_month']== '1004']\n",
    "s_1005 = seoul_month.loc[seoul_month['transaction_year_month']== '1005']\n",
    "s_1006 = seoul_month.loc[seoul_month['transaction_year_month']== '1006']\n",
    "s_1007 = seoul_month.loc[seoul_month['transaction_year_month']== '1007']\n",
    "s_1008 = seoul_month.loc[seoul_month['transaction_year_month']== '1008']\n",
    "s_1009 = seoul_month.loc[seoul_month['transaction_year_month']== '1009']\n",
    "s_1010 = seoul_month.loc[seoul_month['transaction_year_month']== '1010']\n",
    "s_1011 = seoul_month.loc[seoul_month['transaction_year_month']== '1011']\n",
    "s_1012 = seoul_month.loc[seoul_month['transaction_year_month']== '1012']\n",
    "\n",
    "s_month_10 = pd.concat([s_1001, s_1002, s_1003,s_1004, s_1005, s_1006, s_1007, s_1008, s_1009, s_1010, s_1011, s_1012] ,axis = 0)\n",
    "\n",
    "s_1101 = seoul_month.loc[seoul_month['transaction_year_month']== '1101']\n",
    "s_1102 = seoul_month.loc[seoul_month['transaction_year_month']== '1102']\n",
    "s_1103 = seoul_month.loc[seoul_month['transaction_year_month']== '1103']\n",
    "s_1104 = seoul_month.loc[seoul_month['transaction_year_month']== '1104']\n",
    "s_1105 = seoul_month.loc[seoul_month['transaction_year_month']== '1105']\n",
    "s_1106 = seoul_month.loc[seoul_month['transaction_year_month']== '1106']\n",
    "s_1107 = seoul_month.loc[seoul_month['transaction_year_month']== '1107']\n",
    "s_1108 = seoul_month.loc[seoul_month['transaction_year_month']== '1108']\n",
    "s_1109 = seoul_month.loc[seoul_month['transaction_year_month']== '1109']\n",
    "s_1110 = seoul_month.loc[seoul_month['transaction_year_month']== '1110']\n",
    "s_1111 = seoul_month.loc[seoul_month['transaction_year_month']== '1111']\n",
    "s_1112 = seoul_month.loc[seoul_month['transaction_year_month']== '1112']\n",
    "\n",
    "s_month_11 = pd.concat([s_1101, s_1102, s_1103,s_1104, s_1105, s_1106, s_1107, s_1108, s_1109, s_1110, s_1111, s_1112] ,axis = 0)\n",
    "\n",
    "s_1201 = seoul_month.loc[seoul_month['transaction_year_month']== '1201']\n",
    "s_1202 = seoul_month.loc[seoul_month['transaction_year_month']== '1202']\n",
    "s_1203 = seoul_month.loc[seoul_month['transaction_year_month']== '1203']\n",
    "s_1204 = seoul_month.loc[seoul_month['transaction_year_month']== '1204']\n",
    "s_1205 = seoul_month.loc[seoul_month['transaction_year_month']== '1205']\n",
    "s_1206 = seoul_month.loc[seoul_month['transaction_year_month']== '1206']\n",
    "s_1207 = seoul_month.loc[seoul_month['transaction_year_month']== '1207']\n",
    "s_1208 = seoul_month.loc[seoul_month['transaction_year_month']== '1208']\n",
    "s_1209 = seoul_month.loc[seoul_month['transaction_year_month']== '1209']\n",
    "s_1210 = seoul_month.loc[seoul_month['transaction_year_month']== '1210']\n",
    "s_1211 = seoul_month.loc[seoul_month['transaction_year_month']== '1211']\n",
    "s_1212 = seoul_month.loc[seoul_month['transaction_year_month']== '1212']\n",
    "\n",
    "s_month_12 = pd.concat([s_1201, s_1202, s_1203,s_1204, s_1205, s_1206, s_1207, s_1208, s_1209, s_1210, s_1211, s_1212] ,axis = 0)\n",
    "\n"
   ]
  },
  {
   "cell_type": "code",
   "execution_count": null,
   "id": "288843af",
   "metadata": {},
   "outputs": [],
   "source": [
    "s_1301 = seoul_month.loc[seoul_month['transaction_year_month']== '1301']\n",
    "s_1302 = seoul_month.loc[seoul_month['transaction_year_month']== '1302']\n",
    "s_1303 = seoul_month.loc[seoul_month['transaction_year_month']== '1303']\n",
    "s_1304 = seoul_month.loc[seoul_month['transaction_year_month']== '1304']\n",
    "s_1305 = seoul_month.loc[seoul_month['transaction_year_month']== '1305']\n",
    "s_1306 = seoul_month.loc[seoul_month['transaction_year_month']== '1306']\n",
    "s_1307 = seoul_month.loc[seoul_month['transaction_year_month']== '1307']\n",
    "s_1308 = seoul_month.loc[seoul_month['transaction_year_month']== '1308']\n",
    "s_1309 = seoul_month.loc[seoul_month['transaction_year_month']== '1309']\n",
    "s_1310 = seoul_month.loc[seoul_month['transaction_year_month']== '1310']\n",
    "s_1311 = seoul_month.loc[seoul_month['transaction_year_month']== '1311']\n",
    "s_1312 = seoul_month.loc[seoul_month['transaction_year_month']== '1312']\n",
    "\n",
    "s_month_13 = pd.concat([s_1301, s_1302, s_1303,s_1304, s_1305, s_1306, s_1307, s_1308, s_1309, s_1310, s_1311, s_1312] ,axis = 0)\n",
    "\n",
    "s_1401 = seoul_month.loc[seoul_month['transaction_year_month']== '1401']\n",
    "s_1402 = seoul_month.loc[seoul_month['transaction_year_month']== '1402']\n",
    "s_1403 = seoul_month.loc[seoul_month['transaction_year_month']== '1403']\n",
    "s_1404 = seoul_month.loc[seoul_month['transaction_year_month']== '1404']\n",
    "s_1405 = seoul_month.loc[seoul_month['transaction_year_month']== '1405']\n",
    "s_1406 = seoul_month.loc[seoul_month['transaction_year_month']== '1406']\n",
    "s_1407 = seoul_month.loc[seoul_month['transaction_year_month']== '1407']\n",
    "s_1408 = seoul_month.loc[seoul_month['transaction_year_month']== '1408']\n",
    "s_1409 = seoul_month.loc[seoul_month['transaction_year_month']== '1409']\n",
    "s_1410 = seoul_month.loc[seoul_month['transaction_year_month']== '1410']\n",
    "s_1411 = seoul_month.loc[seoul_month['transaction_year_month']== '1411']\n",
    "s_1412 = seoul_month.loc[seoul_month['transaction_year_month']== '1412']\n",
    "\n",
    "s_month_14 = pd.concat([s_1401, s_1402, s_1403,s_1404, s_1405, s_1406, s_1407, s_1408, s_1409, s_1410, s_1411, s_1412] ,axis = 0)\n",
    "\n",
    "s_1501 = seoul_month.loc[seoul_month['transaction_year_month']== '1501']\n",
    "s_1502 = seoul_month.loc[seoul_month['transaction_year_month']== '1502']\n",
    "s_1503 = seoul_month.loc[seoul_month['transaction_year_month']== '1503']\n",
    "s_1504 = seoul_month.loc[seoul_month['transaction_year_month']== '1504']\n",
    "s_1505 = seoul_month.loc[seoul_month['transaction_year_month']== '1505']\n",
    "s_1506 = seoul_month.loc[seoul_month['transaction_year_month']== '1506']\n",
    "s_1507 = seoul_month.loc[seoul_month['transaction_year_month']== '1507']\n",
    "s_1508 = seoul_month.loc[seoul_month['transaction_year_month']== '1508']\n",
    "s_1509 = seoul_month.loc[seoul_month['transaction_year_month']== '1509']\n",
    "s_1510 = seoul_month.loc[seoul_month['transaction_year_month']== '1510']\n",
    "s_1511 = seoul_month.loc[seoul_month['transaction_year_month']== '1511']\n",
    "s_1512 = seoul_month.loc[seoul_month['transaction_year_month']== '1512']\n",
    "\n",
    "s_month_15 = pd.concat([s_1501, s_1502, s_1503, s_1504, s_1505, s_1506, s_1507, s_1508, s_1509, s_1510, s_1511, s_1512] ,axis = 0)\n",
    "\n",
    "s_1601 = seoul_month.loc[seoul_month['transaction_year_month']== '1601']\n",
    "s_1602 = seoul_month.loc[seoul_month['transaction_year_month']== '1602']\n",
    "s_1603 = seoul_month.loc[seoul_month['transaction_year_month']== '1603']\n",
    "s_1604 = seoul_month.loc[seoul_month['transaction_year_month']== '1604']\n",
    "s_1605 = seoul_month.loc[seoul_month['transaction_year_month']== '1605']\n",
    "s_1606 = seoul_month.loc[seoul_month['transaction_year_month']== '1606']\n",
    "s_1607 = seoul_month.loc[seoul_month['transaction_year_month']== '1607']\n",
    "s_1608 = seoul_month.loc[seoul_month['transaction_year_month']== '1608']\n",
    "s_1609 = seoul_month.loc[seoul_month['transaction_year_month']== '1609']\n",
    "s_1610 = seoul_month.loc[seoul_month['transaction_year_month']== '1610']\n",
    "s_1611 = seoul_month.loc[seoul_month['transaction_year_month']== '1611']\n",
    "s_1612 = seoul_month.loc[seoul_month['transaction_year_month']== '1612']\n",
    "\n",
    "s_month_16 = pd.concat([s_1601, s_1602, s_1603,s_1604, s_1605, s_1606, s_1607, s_1608, s_1609, s_1610, s_1611, s_1612] ,axis = 0)\n",
    "\n",
    "s_1701 = seoul_month.loc[seoul_month['transaction_year_month']== '1701']\n",
    "s_1702 = seoul_month.loc[seoul_month['transaction_year_month']== '1702']\n",
    "s_1703 = seoul_month.loc[seoul_month['transaction_year_month']== '1703']\n",
    "s_1704 = seoul_month.loc[seoul_month['transaction_year_month']== '1704']\n",
    "s_1705 = seoul_month.loc[seoul_month['transaction_year_month']== '1705']\n",
    "s_1706 = seoul_month.loc[seoul_month['transaction_year_month']== '1706']\n",
    "s_1707 = seoul_month.loc[seoul_month['transaction_year_month']== '1707']\n",
    "s_1708 = seoul_month.loc[seoul_month['transaction_year_month']== '1708']\n",
    "s_1709 = seoul_month.loc[seoul_month['transaction_year_month']== '1709']\n",
    "s_1710 = seoul_month.loc[seoul_month['transaction_year_month']== '1710']\n",
    "s_1711 = seoul_month.loc[seoul_month['transaction_year_month']== '1711']\n",
    "s_1712 = seoul_month.loc[seoul_month['transaction_year_month']== '1712']\n",
    "\n",
    "s_month_17 = pd.concat([s_1701, s_1702, s_1703,s_1704, s_1705, s_1706, s_1707, s_1708, s_1709, s_1710, s_1711, s_1712] ,axis = 0)"
   ]
  },
  {
   "cell_type": "code",
   "execution_count": null,
   "id": "bf2ef26e",
   "metadata": {},
   "outputs": [],
   "source": [
    "b_0801 = busan_month.loc[busan_month['transaction_year_month']== '0801']\n",
    "b_0802 = busan_month.loc[busan_month['transaction_year_month']== '0802']\n",
    "b_0803 = busan_month.loc[busan_month['transaction_year_month']== '0803']\n",
    "b_0804 = busan_month.loc[busan_month['transaction_year_month']== '0804']\n",
    "b_0805 = busan_month.loc[busan_month['transaction_year_month']== '0805']\n",
    "b_0806 = busan_month.loc[busan_month['transaction_year_month']== '0806']\n",
    "b_0807 = busan_month.loc[busan_month['transaction_year_month']== '0807']\n",
    "b_0808 = busan_month.loc[busan_month['transaction_year_month']== '0808']\n",
    "b_0809 = busan_month.loc[busan_month['transaction_year_month']== '0809']\n",
    "b_0810 = busan_month.loc[busan_month['transaction_year_month']== '0810']\n",
    "b_0811 = busan_month.loc[busan_month['transaction_year_month']== '0811']\n",
    "b_0812 = busan_month.loc[busan_month['transaction_year_month']== '0812']\n",
    "\n",
    "b_month_08 = pd.concat([b_0801, b_0802, b_0803, b_0804, b_0805, b_0806, b_0807, b_0808, b_0809, b_0810, b_0811, b_0812] ,axis = 0)\n",
    "\n",
    "b_0901 = busan_month.loc[busan_month['transaction_year_month']== '0901']\n",
    "b_0902 = busan_month.loc[busan_month['transaction_year_month']== '0902']\n",
    "b_0903 = busan_month.loc[busan_month['transaction_year_month']== '0903']\n",
    "b_0904 = busan_month.loc[busan_month['transaction_year_month']== '0904']\n",
    "b_0905 = busan_month.loc[busan_month['transaction_year_month']== '0905']\n",
    "b_0906 = busan_month.loc[busan_month['transaction_year_month']== '0906']\n",
    "b_0907 = busan_month.loc[busan_month['transaction_year_month']== '0907']\n",
    "b_0908 = busan_month.loc[busan_month['transaction_year_month']== '0908']\n",
    "b_0909 = busan_month.loc[busan_month['transaction_year_month']== '0909']\n",
    "b_0910 = busan_month.loc[busan_month['transaction_year_month']== '0910']\n",
    "b_0911 = busan_month.loc[busan_month['transaction_year_month']== '0911']\n",
    "b_0912 = busan_month.loc[busan_month['transaction_year_month']== '0912']\n",
    "\n",
    "b_month_09 = pd.concat([b_0901, b_0902, b_0903, b_0904, b_0905, b_0906, b_0907, b_0908, b_0909, b_0910, b_0911, b_0912] ,axis = 0)\n",
    "\n",
    "b_1001 = busan_month.loc[busan_month['transaction_year_month']== '1001']\n",
    "b_1002 = busan_month.loc[busan_month['transaction_year_month']== '1002']\n",
    "b_1003 = busan_month.loc[busan_month['transaction_year_month']== '1003']\n",
    "b_1004 = busan_month.loc[busan_month['transaction_year_month']== '1004']\n",
    "b_1005 = busan_month.loc[busan_month['transaction_year_month']== '1005']\n",
    "b_1006 = busan_month.loc[busan_month['transaction_year_month']== '1006']\n",
    "b_1007 = busan_month.loc[busan_month['transaction_year_month']== '1007']\n",
    "b_1008 = busan_month.loc[busan_month['transaction_year_month']== '1008']\n",
    "b_1009 = busan_month.loc[busan_month['transaction_year_month']== '1009']\n",
    "b_1010 = busan_month.loc[busan_month['transaction_year_month']== '1010']\n",
    "b_1011 = busan_month.loc[busan_month['transaction_year_month']== '1011']\n",
    "b_1012 = busan_month.loc[busan_month['transaction_year_month']== '1012']\n",
    "\n",
    "b_month_10 = pd.concat([b_1001, b_1002, b_1003,b_1004, b_1005, b_1006, b_1007, b_1008, b_1009, b_1010, b_1011, b_1012] ,axis = 0)\n",
    "\n",
    "b_1101 = busan_month.loc[busan_month['transaction_year_month']== '1101']\n",
    "b_1102 = busan_month.loc[busan_month['transaction_year_month']== '1102']\n",
    "b_1103 = busan_month.loc[busan_month['transaction_year_month']== '1103']\n",
    "b_1104 = busan_month.loc[busan_month['transaction_year_month']== '1104']\n",
    "b_1105 = busan_month.loc[busan_month['transaction_year_month']== '1105']\n",
    "b_1106 = busan_month.loc[busan_month['transaction_year_month']== '1106']\n",
    "b_1107 = busan_month.loc[busan_month['transaction_year_month']== '1107']\n",
    "b_1108 = busan_month.loc[busan_month['transaction_year_month']== '1108']\n",
    "b_1109 = busan_month.loc[busan_month['transaction_year_month']== '1109']\n",
    "b_1110 = busan_month.loc[busan_month['transaction_year_month']== '1110']\n",
    "b_1111 = busan_month.loc[busan_month['transaction_year_month']== '1111']\n",
    "b_1112 = busan_month.loc[busan_month['transaction_year_month']== '1112']\n",
    "\n",
    "b_month_11 = pd.concat([b_1101, b_1102, b_1103,b_1104, b_1105, b_1106, b_1107, b_1108, b_1109, b_1110, b_1111, b_1112] ,axis = 0)\n"
   ]
  },
  {
   "cell_type": "code",
   "execution_count": null,
   "id": "1e4d9d74",
   "metadata": {},
   "outputs": [],
   "source": [
    "b_1201 = busan_month.loc[busan_month['transaction_year_month']== '1201']\n",
    "b_1202 = busan_month.loc[busan_month['transaction_year_month']== '1202']\n",
    "b_1203 = busan_month.loc[busan_month['transaction_year_month']== '1203']\n",
    "b_1204 = busan_month.loc[busan_month['transaction_year_month']== '1204']\n",
    "b_1205 = busan_month.loc[busan_month['transaction_year_month']== '1205']\n",
    "b_1206 = busan_month.loc[busan_month['transaction_year_month']== '1206']\n",
    "b_1207 = busan_month.loc[busan_month['transaction_year_month']== '1207']\n",
    "b_1208 = busan_month.loc[busan_month['transaction_year_month']== '1208']\n",
    "b_1209 = busan_month.loc[busan_month['transaction_year_month']== '1209']\n",
    "b_1210 = busan_month.loc[busan_month['transaction_year_month']== '1210']\n",
    "b_1211 = busan_month.loc[busan_month['transaction_year_month']== '1211']\n",
    "b_1212 = busan_month.loc[busan_month['transaction_year_month']== '1212']\n",
    "\n",
    "b_month_12 = pd.concat([b_1201, b_1202, b_1203, b_1204, b_1205, b_1206, b_1207, b_1208, b_1209, b_1210, b_1211, b_1212] ,axis = 0)\n",
    "\n",
    "b_1301 = busan_month.loc[busan_month['transaction_year_month']== '1301']\n",
    "b_1302 = busan_month.loc[busan_month['transaction_year_month']== '1302']\n",
    "b_1303 = busan_month.loc[busan_month['transaction_year_month']== '1303']\n",
    "b_1304 = busan_month.loc[busan_month['transaction_year_month']== '1304']\n",
    "b_1305 = busan_month.loc[busan_month['transaction_year_month']== '1305']\n",
    "b_1306 = busan_month.loc[busan_month['transaction_year_month']== '1306']\n",
    "b_1307 = busan_month.loc[busan_month['transaction_year_month']== '1307']\n",
    "b_1308 = busan_month.loc[busan_month['transaction_year_month']== '1308']\n",
    "b_1309 = busan_month.loc[busan_month['transaction_year_month']== '1309']\n",
    "b_1310 = busan_month.loc[busan_month['transaction_year_month']== '1310']\n",
    "b_1311 = busan_month.loc[busan_month['transaction_year_month']== '1311']\n",
    "b_1312 = busan_month.loc[busan_month['transaction_year_month']== '1312']\n",
    "\n",
    "b_month_13 = pd.concat([b_1301, b_1302, b_1303,b_1304, b_1305, b_1306, b_1307, b_1308, b_1309, b_1310, b_1311, b_1312] ,axis = 0)\n",
    "\n",
    "b_1401 = busan_month.loc[busan_month['transaction_year_month']== '1401']\n",
    "b_1402 = busan_month.loc[busan_month['transaction_year_month']== '1402']\n",
    "b_1403 = busan_month.loc[busan_month['transaction_year_month']== '1403']\n",
    "b_1404 = busan_month.loc[busan_month['transaction_year_month']== '1404']\n",
    "b_1405 = busan_month.loc[busan_month['transaction_year_month']== '1405']\n",
    "b_1406 = busan_month.loc[busan_month['transaction_year_month']== '1406']\n",
    "b_1407 = busan_month.loc[busan_month['transaction_year_month']== '1407']\n",
    "b_1408 = busan_month.loc[busan_month['transaction_year_month']== '1408']\n",
    "b_1409 = busan_month.loc[busan_month['transaction_year_month']== '1409']\n",
    "b_1410 = busan_month.loc[busan_month['transaction_year_month']== '1410']\n",
    "b_1411 = busan_month.loc[busan_month['transaction_year_month']== '1411']\n",
    "b_1412 = busan_month.loc[busan_month['transaction_year_month']== '1412']\n",
    "\n",
    "b_month_14 = pd.concat([b_1401, b_1402, b_1403, b_1404, b_1405, b_1406, b_1407, b_1408, b_1409, b_1410, b_1411, b_1412] ,axis = 0)\n",
    "\n",
    "b_1501 = busan_month.loc[busan_month['transaction_year_month']== '1501']\n",
    "b_1502 = busan_month.loc[busan_month['transaction_year_month']== '1502']\n",
    "b_1503 = busan_month.loc[busan_month['transaction_year_month']== '1503']\n",
    "b_1504 = busan_month.loc[busan_month['transaction_year_month']== '1504']\n",
    "b_1505 = busan_month.loc[busan_month['transaction_year_month']== '1505']\n",
    "b_1506 = busan_month.loc[busan_month['transaction_year_month']== '1506']\n",
    "b_1507 = busan_month.loc[busan_month['transaction_year_month']== '1507']\n",
    "b_1508 = busan_month.loc[busan_month['transaction_year_month']== '1508']\n",
    "b_1509 = busan_month.loc[busan_month['transaction_year_month']== '1509']\n",
    "b_1510 = busan_month.loc[busan_month['transaction_year_month']== '1510']\n",
    "b_1511 = busan_month.loc[busan_month['transaction_year_month']== '1511']\n",
    "b_1512 = busan_month.loc[busan_month['transaction_year_month']== '1512']\n",
    "\n",
    "b_month_15 = pd.concat([b_1501, b_1502, b_1503, b_1504, b_1505, b_1506, b_1507, b_1508, b_1509, b_1510, b_1511, b_1512] ,axis = 0)\n",
    "\n",
    "b_1601 = busan_month.loc[busan_month['transaction_year_month']== '1601']\n",
    "b_1602 = busan_month.loc[busan_month['transaction_year_month']== '1602']\n",
    "b_1603 = busan_month.loc[busan_month['transaction_year_month']== '1603']\n",
    "b_1604 = busan_month.loc[busan_month['transaction_year_month']== '1604']\n",
    "b_1605 = busan_month.loc[busan_month['transaction_year_month']== '1605']\n",
    "b_1606 = busan_month.loc[busan_month['transaction_year_month']== '1606']\n",
    "b_1607 = busan_month.loc[busan_month['transaction_year_month']== '1607']\n",
    "b_1608 = busan_month.loc[busan_month['transaction_year_month']== '1608']\n",
    "b_1609 = busan_month.loc[busan_month['transaction_year_month']== '1609']\n",
    "b_1610 = busan_month.loc[busan_month['transaction_year_month']== '1610']\n",
    "b_1611 = busan_month.loc[busan_month['transaction_year_month']== '1611']\n",
    "b_1612 = busan_month.loc[busan_month['transaction_year_month']== '1612']\n",
    "\n",
    "b_month_16 = pd.concat([b_1601, b_1602, b_1603, b_1604, b_1605, b_1606, b_1607, b_1608, b_1609, b_1610, b_1611, b_1612] ,axis = 0)\n",
    "\n",
    "b_1701 = busan_month.loc[busan_month['transaction_year_month']== '1701']\n",
    "b_1702 = busan_month.loc[busan_month['transaction_year_month']== '1702']\n",
    "b_1703 = busan_month.loc[busan_month['transaction_year_month']== '1703']\n",
    "b_1704 = busan_month.loc[busan_month['transaction_year_month']== '1704']\n",
    "b_1705 = busan_month.loc[busan_month['transaction_year_month']== '1705']\n",
    "b_1706 = busan_month.loc[busan_month['transaction_year_month']== '1706']\n",
    "b_1707 = busan_month.loc[busan_month['transaction_year_month']== '1707']\n",
    "b_1708 = busan_month.loc[busan_month['transaction_year_month']== '1708']\n",
    "b_1709 = busan_month.loc[busan_month['transaction_year_month']== '1709']\n",
    "b_1710 = busan_month.loc[busan_month['transaction_year_month']== '1710']\n",
    "b_1711 = busan_month.loc[busan_month['transaction_year_month']== '1711']\n",
    "b_1712 = busan_month.loc[busan_month['transaction_year_month']== '1712']\n",
    "\n",
    "b_month_17 = pd.concat([b_1701, b_1702, b_1703, b_1704, b_1705, b_1706, b_1707, b_1708, b_1709, b_1710, b_1711, b_1712] ,axis = 0)"
   ]
  },
  {
   "cell_type": "markdown",
   "id": "e3600a3f",
   "metadata": {},
   "source": [
    "## 연도 별 거래량 그래프"
   ]
  },
  {
   "cell_type": "code",
   "execution_count": null,
   "id": "14a93153",
   "metadata": {},
   "outputs": [],
   "source": [
    "# 연도 별 총 거래량\n",
    "\n",
    "plt.subplots(1,1, figsize=(20,20))\n",
    "\n",
    "sns.countplot(data = seoul_year, x ='transaction_year_month')\n",
    "plt.title('seoul_year_volume')\n",
    "plt.show()"
   ]
  },
  {
   "cell_type": "code",
   "execution_count": null,
   "id": "3b9c1dba",
   "metadata": {},
   "outputs": [],
   "source": [
    "plt.subplots(1,1, figsize=(20,20))\n",
    "\n",
    "sns.countplot(data = busan_year, x ='transaction_year_month')\n",
    "plt.title('busan_year_volume')\n",
    "plt.show()"
   ]
  },
  {
   "cell_type": "markdown",
   "id": "b583c759",
   "metadata": {},
   "source": [
    "## 연도 간 월 별 거래량 그래프"
   ]
  },
  {
   "cell_type": "markdown",
   "id": "f18ad1d7",
   "metadata": {},
   "source": [
    "#### 서울 연도 간 월 별 거래량"
   ]
  },
  {
   "cell_type": "code",
   "execution_count": null,
   "id": "94ec93b0",
   "metadata": {
    "scrolled": false
   },
   "outputs": [],
   "source": [
    "plt.subplots(1,1, figsize=(20,40))\n",
    "\n",
    "sns.countplot(data = seoul_month, y ='transaction_year_month')\n",
    "plt.title('seoul_total_volume')\n",
    "plt.show()"
   ]
  },
  {
   "cell_type": "markdown",
   "id": "79e4f131",
   "metadata": {},
   "source": [
    "#### 부산 연도 간 월 별 거래량"
   ]
  },
  {
   "cell_type": "code",
   "execution_count": null,
   "id": "4f6e3c14",
   "metadata": {
    "scrolled": false
   },
   "outputs": [],
   "source": [
    "plt.subplots(1,1, figsize=(20,40))\n",
    "\n",
    "sns.countplot(data = busan_month, y ='transaction_year_month')\n",
    "plt.title('busan_total_volume')\n",
    "plt.show()"
   ]
  },
  {
   "cell_type": "markdown",
   "id": "3eb2463e",
   "metadata": {},
   "source": [
    "## 월 별 거래량 그래프"
   ]
  },
  {
   "cell_type": "markdown",
   "id": "a2a9a42f",
   "metadata": {},
   "source": [
    "### 서울시 월 별 거래량 그래프"
   ]
  },
  {
   "cell_type": "code",
   "execution_count": null,
   "id": "d97e8c44",
   "metadata": {},
   "outputs": [],
   "source": [
    "x = [s_month_08, s_month_09, s_month_10,s_month_11,s_month_12, s_month_13, s_month_14, s_month_15 ,s_month_16,s_month_17]\n",
    "y = [b_month_08, b_month_09, b_month_10,b_month_11,b_month_12, b_month_13, b_month_14, b_month_15 ,b_month_16,b_month_17]"
   ]
  },
  {
   "cell_type": "code",
   "execution_count": null,
   "id": "ad7a4eba",
   "metadata": {
    "scrolled": false
   },
   "outputs": [],
   "source": [
    "plt.subplots(1,1, figsize=(24,16))\n",
    "\n",
    "sns.countplot(data = x[0], x = 'transaction_year_month')\n",
    "plt.title('2008-01m~12m', fontsize=25)\n",
    "\n",
    "plt.show()"
   ]
  },
  {
   "cell_type": "code",
   "execution_count": null,
   "id": "672b2b7a",
   "metadata": {},
   "outputs": [],
   "source": [
    "plt.subplots(1,1, figsize=(24,16))\n",
    "\n",
    "sns.countplot(data = x[1], x = 'transaction_year_month')\n",
    "plt.title('2009-01m~12m', fontsize=25)\n",
    "    \n",
    "plt.show()"
   ]
  },
  {
   "cell_type": "code",
   "execution_count": null,
   "id": "274e98da",
   "metadata": {},
   "outputs": [],
   "source": [
    "plt.subplots(1,1, figsize=(24,16))\n",
    "\n",
    "sns.countplot(data = x[2], x = 'transaction_year_month')\n",
    "plt.title('2010-01m~12m', fontsize=25)\n",
    "    \n",
    "plt.show()"
   ]
  },
  {
   "cell_type": "code",
   "execution_count": null,
   "id": "e9f7713f",
   "metadata": {},
   "outputs": [],
   "source": [
    "plt.subplots(1,1, figsize=(24,16))\n",
    "\n",
    "sns.countplot(data = x[3], x = 'transaction_year_month')\n",
    "plt.title('2011-01m~12m', fontsize=25)\n",
    "    \n",
    "plt.show()"
   ]
  },
  {
   "cell_type": "code",
   "execution_count": null,
   "id": "4ee86cf6",
   "metadata": {},
   "outputs": [],
   "source": [
    "plt.subplots(1,1, figsize=(24,16))\n",
    "\n",
    "sns.countplot(data = x[4], x = 'transaction_year_month')\n",
    "plt.title('2012-01m~12m', fontsize=25)\n",
    "    \n",
    "plt.show()"
   ]
  },
  {
   "cell_type": "code",
   "execution_count": null,
   "id": "93f2d4dc",
   "metadata": {},
   "outputs": [],
   "source": [
    "plt.subplots(1,1, figsize=(24,16))\n",
    "\n",
    "sns.countplot(data = x[5], x = 'transaction_year_month')\n",
    "plt.title('2013-01m~12m', fontsize=25)\n",
    "    \n",
    "plt.show()"
   ]
  },
  {
   "cell_type": "code",
   "execution_count": null,
   "id": "fed24e96",
   "metadata": {},
   "outputs": [],
   "source": [
    "plt.subplots(1,1, figsize=(24,16))\n",
    "\n",
    "sns.countplot(data = x[6], x = 'transaction_year_month')\n",
    "plt.title('2014-01m~12m', fontsize=25)\n",
    "    \n",
    "plt.show()"
   ]
  },
  {
   "cell_type": "code",
   "execution_count": null,
   "id": "b7e06fff",
   "metadata": {},
   "outputs": [],
   "source": [
    "plt.subplots(1,1, figsize=(24,16))\n",
    "\n",
    "sns.countplot(data = x[7], x = 'transaction_year_month')\n",
    "plt.title('2015-01m~12m', fontsize=25)\n",
    "    \n",
    "plt.show()"
   ]
  },
  {
   "cell_type": "code",
   "execution_count": null,
   "id": "08f57826",
   "metadata": {},
   "outputs": [],
   "source": [
    "plt.subplots(1,1, figsize=(24,16))\n",
    "\n",
    "sns.countplot(data = x[8], x = 'transaction_year_month')\n",
    "plt.title('2016-01m~12m', fontsize=25)\n",
    "    \n",
    "plt.show()"
   ]
  },
  {
   "cell_type": "code",
   "execution_count": null,
   "id": "b018e23e",
   "metadata": {},
   "outputs": [],
   "source": [
    "plt.subplots(1,1, figsize=(24,16))\n",
    "\n",
    "sns.countplot(data = x[9], x = 'transaction_year_month')\n",
    "plt.title('2017-01m~12m', fontsize=25)\n",
    "    \n",
    "plt.show()"
   ]
  },
  {
   "cell_type": "markdown",
   "id": "02635d7a",
   "metadata": {},
   "source": [
    "### 부산시 월 별 거래량 그래프"
   ]
  },
  {
   "cell_type": "code",
   "execution_count": null,
   "id": "18d8deca",
   "metadata": {},
   "outputs": [],
   "source": [
    "plt.subplots(1,1, figsize=(24,16))\n",
    "\n",
    "sns.countplot(data = y[0], x = 'transaction_year_month')\n",
    "plt.title('2008-01m~12m', fontsize=25)\n",
    "\n",
    "plt.show()"
   ]
  },
  {
   "cell_type": "code",
   "execution_count": null,
   "id": "6c47da6c",
   "metadata": {},
   "outputs": [],
   "source": [
    "plt.subplots(1,1, figsize=(24,16))\n",
    "\n",
    "sns.countplot(data = y[1], x = 'transaction_year_month')\n",
    "plt.title('2009-01m~12m', fontsize=25)\n",
    "\n",
    "plt.show()"
   ]
  },
  {
   "cell_type": "code",
   "execution_count": null,
   "id": "807dd1e7",
   "metadata": {},
   "outputs": [],
   "source": [
    "plt.subplots(1,1, figsize=(24,16))\n",
    "\n",
    "sns.countplot(data = y[2], x = 'transaction_year_month')\n",
    "plt.title('2010-01m~12m', fontsize=25)\n",
    "\n",
    "plt.show()"
   ]
  },
  {
   "cell_type": "code",
   "execution_count": null,
   "id": "25631537",
   "metadata": {},
   "outputs": [],
   "source": [
    "plt.subplots(1,1, figsize=(24,16))\n",
    "\n",
    "sns.countplot(data = y[3], x = 'transaction_year_month')\n",
    "plt.title('2011-01m~12m', fontsize=25)\n",
    "\n",
    "plt.show()"
   ]
  },
  {
   "cell_type": "code",
   "execution_count": null,
   "id": "9f758d09",
   "metadata": {},
   "outputs": [],
   "source": [
    "plt.subplots(1,1, figsize=(24,16))\n",
    "\n",
    "sns.countplot(data = y[4], x = 'transaction_year_month')\n",
    "plt.title('2012-01m~12m', fontsize=25)\n",
    "\n",
    "plt.show()"
   ]
  },
  {
   "cell_type": "code",
   "execution_count": null,
   "id": "253e12f9",
   "metadata": {},
   "outputs": [],
   "source": [
    "plt.subplots(1,1, figsize=(24,16))\n",
    "\n",
    "sns.countplot(data = y[5], x = 'transaction_year_month')\n",
    "plt.title('2013-01m~12m', fontsize=25)\n",
    "\n",
    "plt.show()"
   ]
  },
  {
   "cell_type": "code",
   "execution_count": null,
   "id": "de9df85a",
   "metadata": {},
   "outputs": [],
   "source": [
    "plt.subplots(1,1, figsize=(24,16))\n",
    "\n",
    "sns.countplot(data = y[6], x = 'transaction_year_month')\n",
    "plt.title('2014-01m~12m', fontsize=25)\n",
    "\n",
    "plt.show()"
   ]
  },
  {
   "cell_type": "code",
   "execution_count": null,
   "id": "4d2840fc",
   "metadata": {},
   "outputs": [],
   "source": [
    "plt.subplots(1,1, figsize=(24,16))\n",
    "\n",
    "sns.countplot(data = y[7], x = 'transaction_year_month')\n",
    "plt.title('2015-01m~12m', fontsize=25)\n",
    "\n",
    "plt.show()"
   ]
  },
  {
   "cell_type": "code",
   "execution_count": null,
   "id": "56ec4086",
   "metadata": {},
   "outputs": [],
   "source": [
    "plt.subplots(1,1, figsize=(24,16))\n",
    "\n",
    "sns.countplot(data = y[8], x = 'transaction_year_month')\n",
    "plt.title('2016-01m~12m', fontsize=25)\n",
    "\n",
    "plt.show()"
   ]
  },
  {
   "cell_type": "code",
   "execution_count": null,
   "id": "567da9d2",
   "metadata": {},
   "outputs": [],
   "source": [
    "plt.subplots(1,1, figsize=(24,16))\n",
    "\n",
    "sns.countplot(data = y[9], x = 'transaction_year_month')\n",
    "plt.title('2017-01m~12m', fontsize=25)\n",
    "\n",
    "plt.show()"
   ]
  },
  {
   "cell_type": "code",
   "execution_count": null,
   "id": "3b56c71f",
   "metadata": {},
   "outputs": [],
   "source": [
    "first_date = train.loc[train['transaction_date'] == '1~10']\n",
    "second_date = train.loc[train['transaction_date'] == '11~20']\n",
    "t1_date = train.loc[train['transaction_date'] == '21~28']\n",
    "t2_date = train.loc[train['transaction_date'] == '21~29']\n",
    "t3_date = train.loc[train['transaction_date'] == '21~30']\n",
    "t4_date = train.loc[train['transaction_date'] == '21~31']\n",
    "third_date = pd.concat([t1_date, t2_date, t3_date, t4_date], axis = 0)"
   ]
  },
  {
   "cell_type": "code",
   "execution_count": null,
   "id": "42bbb4a0",
   "metadata": {},
   "outputs": [],
   "source": [
    "s_first_date = seoul.loc[seoul['transaction_date'] == '1~10']\n",
    "s_second_date = seoul.loc[seoul['transaction_date'] == '11~20']\n",
    "s_t1_date = seoul.loc[seoul['transaction_date'] == '21~28']\n",
    "s_t2_date = seoul.loc[seoul['transaction_date'] == '21~29']\n",
    "s_t3_date = seoul.loc[seoul['transaction_date'] == '21~30']\n",
    "s_t4_date = seoul.loc[seoul['transaction_date'] == '21~31']\n",
    "s_third_date = pd.concat([s_t1_date, s_t2_date, s_t3_date, s_t4_date], axis = 0)"
   ]
  },
  {
   "cell_type": "code",
   "execution_count": null,
   "id": "2c364083",
   "metadata": {},
   "outputs": [],
   "source": [
    "b_first_date = busan.loc[busan['transaction_date'] == '1~10']\n",
    "b_second_date = busan.loc[busan['transaction_date'] == '11~20']\n",
    "b_t1_date = busan.loc[busan['transaction_date'] == '21~28']\n",
    "b_t2_date = busan.loc[busan['transaction_date'] == '21~29']\n",
    "b_t3_date = busan.loc[busan['transaction_date'] == '21~30']\n",
    "b_t4_date = busan.loc[busan['transaction_date'] == '21~31']\n",
    "b_third_date = pd.concat([b_t1_date, b_t2_date, b_t3_date, b_t4_date], axis = 0)"
   ]
  },
  {
   "cell_type": "code",
   "execution_count": null,
   "id": "820d2c1d",
   "metadata": {},
   "outputs": [],
   "source": [
    "total_date = pd.concat([first_date, second_date, third_date])"
   ]
  },
  {
   "cell_type": "code",
   "execution_count": null,
   "id": "00adc112",
   "metadata": {},
   "outputs": [],
   "source": [
    "s_total_date = pd.concat([s_first_date, s_second_date, s_third_date])"
   ]
  },
  {
   "cell_type": "code",
   "execution_count": null,
   "id": "2cd572e9",
   "metadata": {},
   "outputs": [],
   "source": [
    "b_total_date = pd.concat([b_first_date, b_second_date, b_third_date])"
   ]
  },
  {
   "cell_type": "code",
   "execution_count": null,
   "id": "1da83e71",
   "metadata": {},
   "outputs": [],
   "source": [
    "plt.subplots(1,1, figsize=(20,20))\n",
    "\n",
    "sns.countplot(data = total_date, x = 'transaction_date')\n",
    "plt.title('total date volume')\n",
    "plt.show()"
   ]
  },
  {
   "cell_type": "code",
   "execution_count": null,
   "id": "727fd49f",
   "metadata": {},
   "outputs": [],
   "source": [
    "plt.subplots(1,1, figsize=(20,20))\n",
    "\n",
    "sns.countplot(data = s_total_date, x = 'transaction_date')\n",
    "plt.title('seoul date volume')\n",
    "plt.show()"
   ]
  },
  {
   "cell_type": "code",
   "execution_count": null,
   "id": "bcede0a5",
   "metadata": {},
   "outputs": [],
   "source": [
    "plt.subplots(1,1, figsize=(20,20))\n",
    "\n",
    "sns.countplot(data = b_total_date, x = 'transaction_date')\n",
    "plt.title('busan date volume')\n",
    "plt.show()"
   ]
  },
  {
   "cell_type": "markdown",
   "id": "278eba98",
   "metadata": {},
   "source": [
    "## 구 별 가격 추세 및 거래량 통계"
   ]
  },
  {
   "cell_type": "code",
   "execution_count": null,
   "id": "e17f6fac",
   "metadata": {},
   "outputs": [],
   "source": [
    "fig, ax = plt.subplots(1, 1, figsize=(20, 20))\n",
    "\n",
    "sns.lineplot(data = seoul_year, x = 'gu', y = 'transaction_real_price')\n",
    "plt.title('seoul gu price', fontsize=25)\n",
    "plt.show()"
   ]
  },
  {
   "cell_type": "code",
   "execution_count": null,
   "id": "5b04c766",
   "metadata": {},
   "outputs": [],
   "source": [
    "plt.subplots(1,1, figsize=(20,20))\n",
    "\n",
    "sns.countplot(data = seoul_year, x = 'gu')\n",
    "plt.title('seoul gu volume')\n",
    "plt.show()"
   ]
  },
  {
   "cell_type": "code",
   "execution_count": null,
   "id": "6565b909",
   "metadata": {},
   "outputs": [],
   "source": [
    "fig, ax = plt.subplots(1, 1, figsize=(20, 20))\n",
    "\n",
    "sns.lineplot(data = busan_year, x = 'gu', y = 'transaction_real_price')\n",
    "plt.title('busan gu price', fontsize=25)\n",
    "plt.show()"
   ]
  },
  {
   "cell_type": "code",
   "execution_count": null,
   "id": "dc063a13",
   "metadata": {},
   "outputs": [],
   "source": [
    "plt.subplots(1,1, figsize=(20,20))\n",
    "\n",
    "sns.countplot(data = busan_year, x = 'gu')\n",
    "plt.title('busan gu volume')\n",
    "plt.show()"
   ]
  },
  {
   "cell_type": "code",
   "execution_count": null,
   "id": "75e3b478",
   "metadata": {},
   "outputs": [],
   "source": [
    "train.dtypes"
   ]
  }
 ],
 "metadata": {
  "kernelspec": {
   "display_name": "Python 3 (ipykernel)",
   "language": "python",
   "name": "python3"
  },
  "language_info": {
   "codemirror_mode": {
    "name": "ipython",
    "version": 3
   },
   "file_extension": ".py",
   "mimetype": "text/x-python",
   "name": "python",
   "nbconvert_exporter": "python",
   "pygments_lexer": "ipython3",
   "version": "3.9.12"
  }
 },
 "nbformat": 4,
 "nbformat_minor": 5
}
